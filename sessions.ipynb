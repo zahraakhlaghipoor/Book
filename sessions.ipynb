{
 "cells": [
  {
   "cell_type": "markdown",
   "id": "11f93478-7448-4b71-8f44-e4aaf458210c",
   "metadata": {},
   "source": [
    "# Markdown"
   ]
  },
  {
   "cell_type": "markdown",
   "id": "1c0a1ddf-c383-4f79-a16f-c05426be9cc0",
   "metadata": {},
   "source": [
    "# Header"
   ]
  },
  {
   "cell_type": "markdown",
   "id": "fec88042-7c06-4a77-bb98-ac8efb7e8345",
   "metadata": {},
   "source": [
    "# Introduction"
   ]
  },
  {
   "cell_type": "markdown",
   "id": "518ea8e0-cc95-424d-a612-ca76daa2f6cf",
   "metadata": {},
   "source": [
    "# Conclusion"
   ]
  },
  {
   "cell_type": "markdown",
   "id": "ebb570a5-32f2-4d6d-81ee-e97254f1d251",
   "metadata": {},
   "source": [
    "#### P.s."
   ]
  },
  {
   "cell_type": "markdown",
   "id": "c2249f44-a171-4331-8ac7-0bb737b954b2",
   "metadata": {},
   "source": [
    "##### The End"
   ]
  },
  {
   "cell_type": "markdown",
   "id": "917acb0c-7b7f-4507-9b33-8bc3c084b0cf",
   "metadata": {},
   "source": [
    "*Italic*"
   ]
  },
  {
   "cell_type": "markdown",
   "id": "9eead643-978e-455c-9cac-5fadd627cc06",
   "metadata": {},
   "source": [
    "_2nd italic_"
   ]
  },
  {
   "cell_type": "markdown",
   "id": "40431f02-48f6-4441-b4d2-08b67c2c9c6c",
   "metadata": {},
   "source": [
    "**Bold**"
   ]
  },
  {
   "cell_type": "markdown",
   "id": "2fc4c4f3-b63e-4171-9411-ef20497d1f67",
   "metadata": {},
   "source": [
    "__ 2nd bold__"
   ]
  },
  {
   "cell_type": "markdown",
   "id": "1ddb979d-87ee-42f9-899b-5e72a62575f3",
   "metadata": {},
   "source": [
    "***Bold Italic***"
   ]
  },
  {
   "cell_type": "markdown",
   "id": "0d20b546-8445-4f2a-b145-d41dae00bdb9",
   "metadata": {},
   "source": [
    "Unorderred text \n",
    "- item 1\n",
    "- item 2\n",
    "    - item 3"
   ]
  },
  {
   "cell_type": "markdown",
   "id": "0230cbca-13a9-4783-84ed-35e7df513e97",
   "metadata": {},
   "source": [
    "Orderred text \n",
    "1. First Item\n",
    "2. Second Item\n",
    "3. Third Item"
   ]
  },
  {
   "cell_type": "markdown",
   "id": "12d40725-df51-4baa-b777-0467e1a841e6",
   "metadata": {},
   "source": [
    "Ask about the part A. B. C. from the prof."
   ]
  },
  {
   "cell_type": "markdown",
   "id": "8310cea4-620a-48a5-8a0e-c27141a726f8",
   "metadata": {},
   "source": [
    "Report created by Jupyter so visit jupyter"
   ]
  },
  {
   "cell_type": "markdown",
   "id": "f987b004-cbc9-4176-a185-b868a53ee426",
   "metadata": {},
   "source": [
    "import image link "
   ]
  },
  {
   "cell_type": "markdown",
   "id": "fb12a5ab-1b5c-4982-8baf-360468be10ac",
   "metadata": {},
   "source": [
    "![Screenshot 2024-06-18 155733.png](attachment:27bb3f3b-b535-4935-b8c7-a98926b4e042.png)"
   ]
  },
  {
   "cell_type": "markdown",
   "id": "ab05ca2c-2314-4843-92e0-f9f3186de23a",
   "metadata": {},
   "source": [
    "![example image from subfolder](subfolder/scheduele.png)"
   ]
  },
  {
   "cell_type": "markdown",
   "id": "a84d3fd7-a12d-47d2-ba4f-1ee9da221979",
   "metadata": {},
   "source": [
    "## UI = user interface => using HTML"
   ]
  },
  {
   "cell_type": "markdown",
   "id": "37f6af16-9632-437f-8c1f-640412f7fa9b",
   "metadata": {},
   "source": [
    "# Using HTML  image tag \n",
    "<img src=\"subfolder\""
   ]
  },
  {
   "cell_type": "markdown",
   "id": "7d15cde9-d008-4628-af46-0cd5bfc08297",
   "metadata": {},
   "source": [
    "Here is an example of `inline code` "
   ]
  },
  {
   "cell_type": "markdown",
   "id": "5b732e62-a454-4b2b-9fe7-4da9669497a8",
   "metadata": {},
   "source": [
    "Here's an example of Blockquotes \n",
    "> William Shakespear."
   ]
  },
  {
   "cell_type": "markdown",
   "id": "048ccf8f-9c7a-486b-b1aa-efe129f30f9b",
   "metadata": {},
   "source": [
    "# Here's an example of horizontal lines \n",
    "---William \n",
    "***William "
   ]
  },
  {
   "cell_type": "markdown",
   "id": "17621467-6edb-4bca-9347-230c54ee988f",
   "metadata": {},
   "source": [
    "## Table \n",
    "\n",
    "| Header 1 | Header 2 |\n",
    "|----------|----------|\n",
    "| Row 1    | Row 2    |"
   ]
  },
  {
   "cell_type": "markdown",
   "id": "beb662b6-8434-4388-816a-68a6019b2e88",
   "metadata": {},
   "source": [
    "## Math mode \n",
    "$E = MC^2 $\n",
    "$$ E = MC^2 $$"
   ]
  },
  {
   "cell_type": "markdown",
   "id": "b4490836-9485-435a-9703-a85bd0e9f2ae",
   "metadata": {},
   "source": [
    "### checklist\n",
    "- [X] Task 1\n",
    "- [ ] TAsk 2 "
   ]
  },
  {
   "cell_type": "markdown",
   "id": "65fd3c1d-e80b-4981-b805-302a4380b8e6",
   "metadata": {},
   "source": [
    "## چطور بریم خط بعد"
   ]
  },
  {
   "cell_type": "markdown",
   "id": "1623d8d8-3277-41fc-8df3-ba8293e53860",
   "metadata": {},
   "source": [
    "First line (double space)  \n",
    "Second line"
   ]
  },
  {
   "cell_type": "markdown",
   "id": "97e2f0dc-b7af-43d0-99da-0adb1869eb90",
   "metadata": {},
   "source": [
    "First line <br>\n",
    "Second line "
   ]
  },
  {
   "cell_type": "markdown",
   "id": "4bd1af41-4946-43d5-a4da-da416db72867",
   "metadata": {},
   "source": [
    "# Session 5"
   ]
  },
  {
   "cell_type": "code",
   "execution_count": 3,
   "id": "e228e6a9-68e7-4741-ba64-7ac4e9863170",
   "metadata": {},
   "outputs": [],
   "source": [
    "integer_addition = 55 * 67 #snake_Case "
   ]
  },
  {
   "cell_type": "code",
   "execution_count": 27,
   "id": "31c8d9b6-8ded-45e9-8ba2-cb2b8cf8f060",
   "metadata": {},
   "outputs": [],
   "source": [
    "myName = \"Zahra\" #camelCase "
   ]
  },
  {
   "cell_type": "code",
   "execution_count": 29,
   "id": "90fae761-197a-4120-934e-48554b605c7f",
   "metadata": {},
   "outputs": [],
   "source": [
    "my_name = 'Zahra' #snake_case "
   ]
  },
  {
   "cell_type": "code",
   "execution_count": 31,
   "id": "93b794ee-db41-4d27-8681-c7778e8bec04",
   "metadata": {},
   "outputs": [
    {
     "name": "stdout",
     "output_type": "stream",
     "text": [
      "Zahra\n"
     ]
    }
   ],
   "source": [
    "print(myName)"
   ]
  },
  {
   "cell_type": "code",
   "execution_count": 33,
   "id": "d015ceef-89d3-40b8-88c7-4ed60af99ffa",
   "metadata": {},
   "outputs": [
    {
     "data": {
      "text/plain": [
       "5"
      ]
     },
     "execution_count": 33,
     "metadata": {},
     "output_type": "execute_result"
    }
   ],
   "source": [
    "len(myName) #shomaresh "
   ]
  },
  {
   "cell_type": "code",
   "execution_count": 35,
   "id": "dcccafa0-3a9f-4855-9d60-8c35976d18bd",
   "metadata": {},
   "outputs": [
    {
     "name": "stdout",
     "output_type": "stream",
     "text": [
      "Z\n"
     ]
    }
   ],
   "source": [
    "print(myName[0]) #Harf avale esme man "
   ]
  },
  {
   "cell_type": "code",
   "execution_count": 37,
   "id": "34ec91d4-d0e8-4fd4-b1ce-a81cf0154b29",
   "metadata": {},
   "outputs": [
    {
     "name": "stdout",
     "output_type": "stream",
     "text": [
      "r\n"
     ]
    }
   ],
   "source": [
    "print(myName[3]) #Harf sevom esme man"
   ]
  },
  {
   "cell_type": "code",
   "execution_count": 39,
   "id": "2e9c28d1-e82d-4a85-8a6d-8f5a0e6f2e71",
   "metadata": {},
   "outputs": [
    {
     "data": {
      "text/plain": [
       "'a'"
      ]
     },
     "execution_count": 39,
     "metadata": {},
     "output_type": "execute_result"
    }
   ],
   "source": [
    "myName[1]"
   ]
  },
  {
   "cell_type": "code",
   "execution_count": 43,
   "id": "331adedb-0a6e-4bb3-9e63-b12ae63878e4",
   "metadata": {},
   "outputs": [
    {
     "data": {
      "text/plain": [
       "'a'"
      ]
     },
     "execution_count": 43,
     "metadata": {},
     "output_type": "execute_result"
    }
   ],
   "source": [
    "myName[-1] #harf akhar"
   ]
  },
  {
   "cell_type": "code",
   "execution_count": 45,
   "id": "628ea555-bece-4793-8614-c7e0c0267664",
   "metadata": {},
   "outputs": [
    {
     "data": {
      "text/plain": [
       "1"
      ]
     },
     "execution_count": 45,
     "metadata": {},
     "output_type": "execute_result"
    }
   ],
   "source": [
    "len(myName[-1]) #Eshtebahhhhhh"
   ]
  },
  {
   "cell_type": "code",
   "execution_count": 47,
   "id": "e8a0e21e-61a6-485e-af64-3da359c3f897",
   "metadata": {},
   "outputs": [
    {
     "data": {
      "text/plain": [
       "'a'"
      ]
     },
     "execution_count": 47,
     "metadata": {},
     "output_type": "execute_result"
    }
   ],
   "source": [
    "myName[len(myName)-1]"
   ]
  },
  {
   "cell_type": "markdown",
   "id": "2e32b123-4567-46fd-bb7a-7a53df71e525",
   "metadata": {},
   "source": [
    "# برای این کاری که انجام شد، پایتون مراحل زیر را طی می کند"
   ]
  },
  {
   "cell_type": "code",
   "execution_count": 49,
   "id": "285d6bbe-2a55-4215-b655-747baaf55fb9",
   "metadata": {},
   "outputs": [
    {
     "data": {
      "text/plain": [
       "5"
      ]
     },
     "execution_count": 49,
     "metadata": {},
     "output_type": "execute_result"
    }
   ],
   "source": [
    "len(myName)"
   ]
  },
  {
   "cell_type": "markdown",
   "id": "cd87faf8-01cd-4f47-a830-fea07b4025c5",
   "metadata": {},
   "source": [
    "# در کروشه ی لِن فقط مجاز هستیم به تعداد حروف موجود عدد وارد کرد در غیر این صورت ارور می دهد\n",
    "# چون اعداد در برنامه نویسی از 0 شروع می شوند عدد داخل کروشه یکی کمتر می شود\n",
    "# بطور مثال زهرا 5 کرکتری میشود"
   ]
  },
  {
   "cell_type": "code",
   "execution_count": 52,
   "id": "262edc08-5d89-49b7-9b65-1d0f08d9eb36",
   "metadata": {},
   "outputs": [
    {
     "data": {
      "text/plain": [
       "'a'"
      ]
     },
     "execution_count": 52,
     "metadata": {},
     "output_type": "execute_result"
    }
   ],
   "source": [
    "myName[4]"
   ]
  },
  {
   "cell_type": "code",
   "execution_count": 54,
   "id": "45ffd2ba-480f-4138-9528-ddf86dbdc3fb",
   "metadata": {},
   "outputs": [
    {
     "ename": "IndexError",
     "evalue": "string index out of range",
     "output_type": "error",
     "traceback": [
      "\u001b[1;31m---------------------------------------------------------------------------\u001b[0m",
      "\u001b[1;31mIndexError\u001b[0m                                Traceback (most recent call last)",
      "Cell \u001b[1;32mIn[54], line 1\u001b[0m\n\u001b[1;32m----> 1\u001b[0m myName[\u001b[38;5;241m5\u001b[39m]\n",
      "\u001b[1;31mIndexError\u001b[0m: string index out of range"
     ]
    }
   ],
   "source": [
    "myName[5] #Error "
   ]
  },
  {
   "cell_type": "code",
   "execution_count": 56,
   "id": "eda1462e-6c9a-4848-85de-258c948e221f",
   "metadata": {},
   "outputs": [
    {
     "data": {
      "text/plain": [
       "'Zahra'"
      ]
     },
     "execution_count": 56,
     "metadata": {},
     "output_type": "execute_result"
    }
   ],
   "source": [
    "myName[0:5]"
   ]
  },
  {
   "cell_type": "code",
   "execution_count": 58,
   "id": "8b298a04-bee4-4401-b767-e7be10bb724f",
   "metadata": {},
   "outputs": [
    {
     "data": {
      "text/plain": [
       "'ah'"
      ]
     },
     "execution_count": 58,
     "metadata": {},
     "output_type": "execute_result"
    }
   ],
   "source": [
    "myName[1:3]"
   ]
  },
  {
   "cell_type": "code",
   "execution_count": 60,
   "id": "1545bec7-965e-4778-ac67-ff416ebf3e72",
   "metadata": {},
   "outputs": [
    {
     "data": {
      "text/plain": [
       "'a'"
      ]
     },
     "execution_count": 60,
     "metadata": {},
     "output_type": "execute_result"
    }
   ],
   "source": [
    "myName[1]"
   ]
  },
  {
   "cell_type": "code",
   "execution_count": 62,
   "id": "ae8024aa-898a-420b-96bd-f0d59286aac8",
   "metadata": {},
   "outputs": [
    {
     "data": {
      "text/plain": [
       "'h'"
      ]
     },
     "execution_count": 62,
     "metadata": {},
     "output_type": "execute_result"
    }
   ],
   "source": [
    "myName[2]"
   ]
  },
  {
   "cell_type": "code",
   "execution_count": 64,
   "id": "8f5976ba-e4fc-42a8-a175-735f0f4df510",
   "metadata": {},
   "outputs": [
    {
     "data": {
      "text/plain": [
       "'r'"
      ]
     },
     "execution_count": 64,
     "metadata": {},
     "output_type": "execute_result"
    }
   ],
   "source": [
    "myName[3]"
   ]
  },
  {
   "cell_type": "code",
   "execution_count": 66,
   "id": "94322068-1825-4456-99f2-77a61f99ec97",
   "metadata": {},
   "outputs": [
    {
     "data": {
      "text/plain": [
       "'ZahraAkhlaghipoor'"
      ]
     },
     "execution_count": 66,
     "metadata": {},
     "output_type": "execute_result"
    }
   ],
   "source": [
    "mySurname = 'Akhlaghipoor'\n",
    "myFullName = myName + mySurname\n",
    "myFullName"
   ]
  },
  {
   "cell_type": "code",
   "execution_count": 68,
   "id": "d74f20cb-469d-4a29-9e42-816eaf424fba",
   "metadata": {},
   "outputs": [
    {
     "ename": "TypeError",
     "evalue": "can't multiply sequence by non-int of type 'str'",
     "output_type": "error",
     "traceback": [
      "\u001b[1;31m---------------------------------------------------------------------------\u001b[0m",
      "\u001b[1;31mTypeError\u001b[0m                                 Traceback (most recent call last)",
      "Cell \u001b[1;32mIn[68], line 1\u001b[0m\n\u001b[1;32m----> 1\u001b[0m myName \u001b[38;5;241m*\u001b[39m myName\n",
      "\u001b[1;31mTypeError\u001b[0m: can't multiply sequence by non-int of type 'str'"
     ]
    }
   ],
   "source": [
    "myName * myName"
   ]
  },
  {
   "cell_type": "code",
   "execution_count": 70,
   "id": "6c6ebf65-9f1a-4d75-a97d-7adea109778e",
   "metadata": {},
   "outputs": [
    {
     "name": "stdout",
     "output_type": "stream",
     "text": [
      "2\n",
      "regrehhhhdhregrehhhhdh\n"
     ]
    }
   ],
   "source": [
    "_Int = 1\n",
    "tempInt = 1\n",
    "tempStr = 'regrehhhhdh'\n",
    "print(tempInt*2)\n",
    "print(tempStr*2)       # neveshteh ra be tedad minevisad\n",
    "temp = \"\"\"lmnopqrst\n",
    "uvw\n",
    "xyz\n",
    "hehehehe\"\"\""
   ]
  },
  {
   "cell_type": "code",
   "execution_count": 72,
   "id": "e4c05cb0-73a5-47e0-a954-367e751e588e",
   "metadata": {},
   "outputs": [
    {
     "data": {
      "text/plain": [
       "'Zahra'"
      ]
     },
     "execution_count": 72,
     "metadata": {},
     "output_type": "execute_result"
    }
   ],
   "source": [
    "myName "
   ]
  },
  {
   "cell_type": "code",
   "execution_count": 74,
   "id": "32943670-4a42-44c3-9102-8a07f1cdbabf",
   "metadata": {},
   "outputs": [
    {
     "data": {
      "text/plain": [
       "-1"
      ]
     },
     "execution_count": 74,
     "metadata": {},
     "output_type": "execute_result"
    }
   ],
   "source": [
    "myName.find('ik')"
   ]
  },
  {
   "cell_type": "code",
   "execution_count": 76,
   "id": "1986187f-366f-4ad9-aeee-8288335e7bcb",
   "metadata": {},
   "outputs": [],
   "source": [
    "_str = \"abcdaefg\""
   ]
  },
  {
   "cell_type": "code",
   "execution_count": 80,
   "id": "0b282840-edfd-42d3-9e8c-49b03b544cca",
   "metadata": {},
   "outputs": [
    {
     "ename": "NameError",
     "evalue": "name '_Str' is not defined",
     "output_type": "error",
     "traceback": [
      "\u001b[1;31m---------------------------------------------------------------------------\u001b[0m",
      "\u001b[1;31mNameError\u001b[0m                                 Traceback (most recent call last)",
      "Cell \u001b[1;32mIn[80], line 1\u001b[0m\n\u001b[1;32m----> 1\u001b[0m _Str\u001b[38;5;241m.\u001b[39mfind(\u001b[38;5;124m\"\u001b[39m\u001b[38;5;124ma\u001b[39m\u001b[38;5;124m\"\u001b[39m)\n",
      "\u001b[1;31mNameError\u001b[0m: name '_Str' is not defined"
     ]
    }
   ],
   "source": [
    "_Str.find(\"a\")"
   ]
  },
  {
   "cell_type": "markdown",
   "id": "df243c6c-1036-41f6-acd0-79a120813c00",
   "metadata": {},
   "source": [
    "# Session 6"
   ]
  },
  {
   "cell_type": "code",
   "execution_count": 62,
   "id": "3afa1c4b-393c-4d72-b584-da9cbc7007d2",
   "metadata": {},
   "outputs": [
    {
     "data": {
      "text/plain": [
       "True"
      ]
     },
     "execution_count": 62,
     "metadata": {},
     "output_type": "execute_result"
    }
   ],
   "source": [
    "a = 2 \n",
    "b = a \n",
    "a is b"
   ]
  },
  {
   "cell_type": "code",
   "execution_count": 64,
   "id": "faaeb1ff-8df7-48a9-bed3-4bad4dff7ee8",
   "metadata": {},
   "outputs": [
    {
     "data": {
      "text/plain": [
       "True"
      ]
     },
     "execution_count": 64,
     "metadata": {},
     "output_type": "execute_result"
    }
   ],
   "source": [
    "a == b "
   ]
  },
  {
   "cell_type": "code",
   "execution_count": 82,
   "id": "1d0f16e3-0d0f-45fd-8a62-87008dc64d25",
   "metadata": {},
   "outputs": [],
   "source": [
    "a = 2 \n",
    "b = 2"
   ]
  },
  {
   "cell_type": "code",
   "execution_count": 84,
   "id": "be252ef5-5200-449c-95e9-132761dc2bd1",
   "metadata": {},
   "outputs": [
    {
     "data": {
      "text/plain": [
       "True"
      ]
     },
     "execution_count": 84,
     "metadata": {},
     "output_type": "execute_result"
    }
   ],
   "source": [
    "a is b "
   ]
  },
  {
   "cell_type": "code",
   "execution_count": 70,
   "id": "1b288a21-ac21-436e-9072-71d2d7e1f6ef",
   "metadata": {},
   "outputs": [
    {
     "data": {
      "text/plain": [
       "True"
      ]
     },
     "execution_count": 70,
     "metadata": {},
     "output_type": "execute_result"
    }
   ],
   "source": [
    "a is b "
   ]
  },
  {
   "cell_type": "markdown",
   "id": "597bec20-9391-444c-bedd-f5f5014d6179",
   "metadata": {},
   "source": [
    "# Exercise\n",
    "# یک صفحه ی ویکی پدیای پایتون را کپی کنید و ببینید چند کلمه ی پایتون در آن وجود دارد"
   ]
  },
  {
   "cell_type": "code",
   "execution_count": 87,
   "id": "6bedaf41-295b-4824-93ba-bd1260d4bc8f",
   "metadata": {},
   "outputs": [],
   "source": [
    "Pythonwiki = ''' ###matn  '''"
   ]
  },
  {
   "cell_type": "code",
   "execution_count": 89,
   "id": "bd7e63ae-7d53-43a4-be63-163093c55719",
   "metadata": {},
   "outputs": [
    {
     "data": {
      "text/plain": [
       "'Z'"
      ]
     },
     "execution_count": 89,
     "metadata": {},
     "output_type": "execute_result"
    }
   ],
   "source": [
    "myFullName[0] "
   ]
  },
  {
   "cell_type": "code",
   "execution_count": 91,
   "id": "a8839ee2-8d9b-40cb-85a9-c107c41484b0",
   "metadata": {},
   "outputs": [
    {
     "ename": "TypeError",
     "evalue": "'str' object does not support item assignment",
     "output_type": "error",
     "traceback": [
      "\u001b[1;31m---------------------------------------------------------------------------\u001b[0m",
      "\u001b[1;31mTypeError\u001b[0m                                 Traceback (most recent call last)",
      "Cell \u001b[1;32mIn[91], line 1\u001b[0m\n\u001b[1;32m----> 1\u001b[0m myFullName[\u001b[38;5;241m0\u001b[39m] \u001b[38;5;241m=\u001b[39m \u001b[38;5;124m'\u001b[39m\u001b[38;5;124me\u001b[39m\u001b[38;5;124m'\u001b[39m\n",
      "\u001b[1;31mTypeError\u001b[0m: 'str' object does not support item assignment"
     ]
    }
   ],
   "source": [
    "myFullName[0] = 'e'     ### dar inja nemitavan baraye string character avaz kar"
   ]
  },
  {
   "cell_type": "code",
   "execution_count": 93,
   "id": "7a22576c-b39f-4344-8a14-7226d5ef1874",
   "metadata": {},
   "outputs": [],
   "source": [
    "myFatherName = 'Mohammad'"
   ]
  },
  {
   "cell_type": "code",
   "execution_count": 95,
   "id": "ea513cc9-2e32-4749-969b-7f160a254f3f",
   "metadata": {},
   "outputs": [
    {
     "data": {
      "text/plain": [
       "'ZahraAkhlaghipoor'"
      ]
     },
     "execution_count": 95,
     "metadata": {},
     "output_type": "execute_result"
    }
   ],
   "source": [
    "myFullName = myName + mySurname\n",
    "myFullName"
   ]
  },
  {
   "cell_type": "markdown",
   "id": "cb5efde6-a527-4147-8a58-b51268a1d674",
   "metadata": {},
   "source": [
    "## in myFullName it finds my full name. in myName it finds my name without surname. in myFatherName it replaces my name with my father's."
   ]
  },
  {
   "cell_type": "code",
   "execution_count": 98,
   "id": "a16502f6-e68b-4f96-ba39-bcc6b3064fc9",
   "metadata": {},
   "outputs": [
    {
     "data": {
      "text/plain": [
       "'MohammadAkhlaghipoor'"
      ]
     },
     "execution_count": 98,
     "metadata": {},
     "output_type": "execute_result"
    }
   ],
   "source": [
    "myFatherFullName = myFullName.replace(myName, myFatherName)\n",
    "myFatherFullName"
   ]
  },
  {
   "cell_type": "code",
   "execution_count": 100,
   "id": "c8b0e5b2-48ba-4572-8800-831f8fb3de5c",
   "metadata": {},
   "outputs": [
    {
     "data": {
      "text/plain": [
       "'ZahraAkhlaghipoorZahraAkhlaghipoor'"
      ]
     },
     "execution_count": 100,
     "metadata": {},
     "output_type": "execute_result"
    }
   ],
   "source": [
    "myDoubleFullName = myFullName * 2\n",
    "myDoubleFullName"
   ]
  },
  {
   "cell_type": "code",
   "execution_count": 102,
   "id": "e9fecdb0-fa6c-4327-a0f6-b53908c99101",
   "metadata": {},
   "outputs": [
    {
     "data": {
      "text/plain": [
       "'MohammadAkhlaghipoorMohammadAkhlaghipoor'"
      ]
     },
     "execution_count": 102,
     "metadata": {},
     "output_type": "execute_result"
    }
   ],
   "source": [
    "myFatherDoubleFullName = myDoubleFullName.replace(myName, myFatherName)\n",
    "myFatherDoubleFullName"
   ]
  },
  {
   "cell_type": "code",
   "execution_count": 104,
   "id": "12eb3f84-a755-44e1-8cb1-bd6b049a2d5a",
   "metadata": {},
   "outputs": [
    {
     "data": {
      "text/plain": [
       "'ZAHRA'"
      ]
     },
     "execution_count": 104,
     "metadata": {},
     "output_type": "execute_result"
    }
   ],
   "source": [
    "myName.upper()"
   ]
  },
  {
   "cell_type": "code",
   "execution_count": 106,
   "id": "ff347f71-86d6-4003-8cb5-4b510feac51e",
   "metadata": {},
   "outputs": [
    {
     "data": {
      "text/plain": [
       "True"
      ]
     },
     "execution_count": 106,
     "metadata": {},
     "output_type": "execute_result"
    }
   ],
   "source": [
    "myName.isalpha()"
   ]
  },
  {
   "cell_type": "code",
   "execution_count": 110,
   "id": "0062ffe0-2921-4312-bd3a-ea9fa3d7ecb7",
   "metadata": {},
   "outputs": [],
   "source": [
    "myTachersName = 'Amir hoshang Hoseinpour Dehkordi'"
   ]
  },
  {
   "cell_type": "code",
   "execution_count": 112,
   "id": "807579a2-2a5a-4992-8b35-998d40586e31",
   "metadata": {},
   "outputs": [
    {
     "data": {
      "text/plain": [
       "['Amir', 'hoshang', 'Hoseinpour', 'Dehkordi']"
      ]
     },
     "execution_count": 112,
     "metadata": {},
     "output_type": "execute_result"
    }
   ],
   "source": [
    "splitedTeachersName = myTachersName.split(' ')\n",
    "splitedTeachersName"
   ]
  },
  {
   "cell_type": "code",
   "execution_count": 114,
   "id": "1737db48-3ce7-441a-b022-181c8ab8e4a3",
   "metadata": {},
   "outputs": [
    {
     "data": {
      "text/plain": [
       "['Amir,hoshang,Hoseinpour,Dehkordi']"
      ]
     },
     "execution_count": 114,
     "metadata": {},
     "output_type": "execute_result"
    }
   ],
   "source": [
    "myCammaTeachersName = 'Amir,hoshang,Hoseinpour,Dehkordi'\n",
    "splitedCammaTeachersName = myCammaTeachersName.split(' ')\n",
    "splitedCammaTeachersName"
   ]
  },
  {
   "cell_type": "code",
   "execution_count": 116,
   "id": "502883fc-5465-44b6-ad39-5004b9f3a560",
   "metadata": {},
   "outputs": [
    {
     "data": {
      "text/plain": [
       "['17;47;33']"
      ]
     },
     "execution_count": 116,
     "metadata": {},
     "output_type": "execute_result"
    }
   ],
   "source": [
    "time = '17;47;33'\n",
    "splitedTime = time.split(' ')\n",
    "splitedTime"
   ]
  },
  {
   "cell_type": "code",
   "execution_count": 118,
   "id": "7a4639ca-7f44-4ed8-abb7-a95d26dd8240",
   "metadata": {},
   "outputs": [
    {
     "data": {
      "text/plain": [
       "['__add__',\n",
       " '__class__',\n",
       " '__contains__',\n",
       " '__delattr__',\n",
       " '__dir__',\n",
       " '__doc__',\n",
       " '__eq__',\n",
       " '__format__',\n",
       " '__ge__',\n",
       " '__getattribute__',\n",
       " '__getitem__',\n",
       " '__getnewargs__',\n",
       " '__getstate__',\n",
       " '__gt__',\n",
       " '__hash__',\n",
       " '__init__',\n",
       " '__init_subclass__',\n",
       " '__iter__',\n",
       " '__le__',\n",
       " '__len__',\n",
       " '__lt__',\n",
       " '__mod__',\n",
       " '__mul__',\n",
       " '__ne__',\n",
       " '__new__',\n",
       " '__reduce__',\n",
       " '__reduce_ex__',\n",
       " '__repr__',\n",
       " '__rmod__',\n",
       " '__rmul__',\n",
       " '__setattr__',\n",
       " '__sizeof__',\n",
       " '__str__',\n",
       " '__subclasshook__',\n",
       " 'capitalize',\n",
       " 'casefold',\n",
       " 'center',\n",
       " 'count',\n",
       " 'encode',\n",
       " 'endswith',\n",
       " 'expandtabs',\n",
       " 'find',\n",
       " 'format',\n",
       " 'format_map',\n",
       " 'index',\n",
       " 'isalnum',\n",
       " 'isalpha',\n",
       " 'isascii',\n",
       " 'isdecimal',\n",
       " 'isdigit',\n",
       " 'isidentifier',\n",
       " 'islower',\n",
       " 'isnumeric',\n",
       " 'isprintable',\n",
       " 'isspace',\n",
       " 'istitle',\n",
       " 'isupper',\n",
       " 'join',\n",
       " 'ljust',\n",
       " 'lower',\n",
       " 'lstrip',\n",
       " 'maketrans',\n",
       " 'partition',\n",
       " 'removeprefix',\n",
       " 'removesuffix',\n",
       " 'replace',\n",
       " 'rfind',\n",
       " 'rindex',\n",
       " 'rjust',\n",
       " 'rpartition',\n",
       " 'rsplit',\n",
       " 'rstrip',\n",
       " 'split',\n",
       " 'splitlines',\n",
       " 'startswith',\n",
       " 'strip',\n",
       " 'swapcase',\n",
       " 'title',\n",
       " 'translate',\n",
       " 'upper',\n",
       " 'zfill']"
      ]
     },
     "execution_count": 118,
     "metadata": {},
     "output_type": "execute_result"
    }
   ],
   "source": [
    "dir(myName)"
   ]
  },
  {
   "cell_type": "code",
   "execution_count": 120,
   "id": "46e057fe-74d0-49ee-814d-6bb1e11032b2",
   "metadata": {},
   "outputs": [
    {
     "name": "stdout",
     "output_type": "stream",
     "text": [
      "Help on built-in function upper:\n",
      "\n",
      "upper() method of builtins.str instance\n",
      "    Return a copy of the string converted to uppercase.\n",
      "\n"
     ]
    }
   ],
   "source": [
    "help(myName.upper)"
   ]
  },
  {
   "cell_type": "code",
   "execution_count": 122,
   "id": "4fffad48-5713-4d1c-af75-3c89faadfe5c",
   "metadata": {},
   "outputs": [
    {
     "name": "stdout",
     "output_type": "stream",
     "text": [
      "A\n",
      "B\tc\n"
     ]
    }
   ],
   "source": [
    "tempString = 'A\\nB\\tc' #\\n is the end-of-line, \\t is tab\n",
    "print(tempString)"
   ]
  },
  {
   "cell_type": "code",
   "execution_count": 124,
   "id": "450e440d-06d1-480c-8660-972a1f6f0008",
   "metadata": {},
   "outputs": [
    {
     "name": "stdout",
     "output_type": "stream",
     "text": [
      "Mohammad\n",
      "Ali\n"
     ]
    }
   ],
   "source": [
    "tS1 = 'Mohammad'\n",
    "tS2 = 'Ali'\n",
    "print(tS1 + \"\\n\" + tS2)"
   ]
  },
  {
   "cell_type": "code",
   "execution_count": 126,
   "id": "e34bcb01-4570-4242-87f6-2408480fd25c",
   "metadata": {},
   "outputs": [
    {
     "name": "stdout",
     "output_type": "stream",
     "text": [
      "Ali goft:\"salam\"\n"
     ]
    }
   ],
   "source": [
    "print(\"Ali goft:\\\"salam\\\"\")"
   ]
  },
  {
   "cell_type": "code",
   "execution_count": 128,
   "id": "5f613acf-1d60-40c9-be07-c8644f2e7f41",
   "metadata": {},
   "outputs": [
    {
     "name": "stderr",
     "output_type": "stream",
     "text": [
      "<>:1: SyntaxWarning: invalid escape sequence '\\)'\n",
      "<>:1: SyntaxWarning: invalid escape sequence '\\)'\n",
      "C:\\Users\\KishPC\\AppData\\Local\\Temp\\ipykernel_11208\\2332312640.py:1: SyntaxWarning: invalid escape sequence '\\)'\n",
      "  pythonWiki='''\n"
     ]
    }
   ],
   "source": [
    "pythonWiki='''\n",
    "Main menu\n",
    "\n",
    "WikipediaThe Free Encyclopedia\n",
    "Search Wikipedia\n",
    "Search\n",
    "Donate\n",
    "Create account\n",
    "Log in\n",
    "\n",
    "Personal tools\n",
    "\n",
    "Wiki Loves Monuments: Photograph a monument, help Wikipedia and win!\n",
    "Learn more\n",
    "\n",
    "Contents hide\n",
    "(Top)\n",
    "History\n",
    "Design philosophy and features\n",
    "Syntax and semantics\n",
    "Toggle Syntax and semantics subsection\n",
    "Programming examples\n",
    "Libraries\n",
    "Development environments\n",
    "Implementations\n",
    "Toggle Implementations subsection\n",
    "Development\n",
    "API documentation generators\n",
    "Naming\n",
    "Popularity\n",
    "Uses\n",
    "Languages influenced by Python\n",
    "See also\n",
    "References\n",
    "Toggle References subsection\n",
    "Further reading\n",
    "External links\n",
    "Python (programming language)\n",
    "\n",
    "Article\n",
    "Talk\n",
    "Read\n",
    "Edit\n",
    "View history\n",
    "\n",
    "Tools\n",
    "Appearance hide\n",
    "Text\n",
    "\n",
    "Small\n",
    "\n",
    "Standard\n",
    "\n",
    "Large\n",
    "Width\n",
    "\n",
    "Standard\n",
    "\n",
    "Wide\n",
    "Color (beta)\n",
    "\n",
    "Automatic\n",
    "\n",
    "Light\n",
    "\n",
    "Dark\n",
    "From Wikipedia, the free encyclopedia\n",
    "This article is about the python programming language. For the animal, see Python (genus).\n",
    "Python\n",
    "\n",
    "Paradigm\tMulti-paradigm: object-oriented,[1] procedural (imperative), functional, structured, reflective\n",
    "Designed by\tGuido van Rossum\n",
    "Developer\tPython Software Foundation\n",
    "First appeared\t20 February 1991; 33 years ago[2]\n",
    "Stable release\t\n",
    "3.13.0 Edit this on Wikidata / 7 October 2024; 21 days ago\n",
    "Typing discipline\tduck, dynamic, strong;[3] optional type annotations (since 3.5, but those hints are ignored, except with unofficial tools)[4]\n",
    "OS\t\n",
    "Tier 1: 64-bit Linux, macOS; 64- and 32-bit Windows 10+[5]\n",
    "Tier 2: E.g. 32-bit WebAssembly (WASI)\n",
    "Tier 3: 64-bit Android,[6] iOS, FreeBSD, and (32-bit) Raspberry Pi OS\n",
    "Unofficial (or has been known to work): Other Unix-like/BSD variants) and a few other platforms[7][8][9]\n",
    "License\tPython Software Foundation License\n",
    "Filename extensions\t.py, .pyw, .pyz,[10]\n",
    ".pyi, .pyc, .pyd\n",
    "Website\tpython.org\n",
    "Major implementations\n",
    "CPython, PyPy, Stackless Python, MicroPython, CircuitPython, IronPython, Jython\n",
    "Dialects\n",
    "Cython, RPython, Starlark[11]\n",
    "Influenced by\n",
    "ABC,[12] Ada,[13] ALGOL 68,[14]\n",
    "APL,[15] C,[16] C++,[17] CLU,[18] Dylan,[19]\n",
    "Haskell,[20][15] Icon,[21] Lisp,[22]\n",
    "Modula-3,[14][17] Perl,[23] Standard ML[15]\n",
    "Influenced\n",
    "Apache Groovy, Boo, Cobra, CoffeeScript,[24] D, F#, GDScript, Go, JavaScript,[25][26] Julia,[27] Mojo,[28] Nim, Ring,[29] Ruby,[30] Swift[31]\n",
    " Python Programming at Wikibooks\n",
    "Python is a high-level, general-purpose programming language. Its design philosophy emphasizes code readability with the use of significant indentation.[32]\n",
    "\n",
    "Python is dynamically typed and garbage-collected. It supports multiple programming paradigms, including structured (particularly procedural), object-oriented and functional programming. It is often described as a \"batteries included\" language due to its comprehensive standard library.[33][34]\n",
    "\n",
    "Guido van Rossum began working on Python in the late 1980s as a successor to the ABC programming language and first released it in 1991 as Python 0.9.0.[35] Python 2.0 was released in 2000. Python 3.0, released in 2008, was a major revision not completely backward-compatible with earlier versions. Python 2.7.18, released in 2020, was the last release of Python 2.[36]\n",
    "\n",
    "Python consistently ranks as one of the most popular programming languages, and has gained widespread use in the machine learning community.[37][38][39][40]\n",
    "\n",
    "History\n",
    "Main article: History of Python\n",
    "\n",
    "The designer of Python, Guido van Rossum, at OSCON 2006\n",
    "Python was invented in the late 1980s[41] by Guido van Rossum at Centrum Wiskunde & Informatica (CWI) in the Netherlands as a successor to the ABC programming language, which was inspired by SETL,[42] capable of exception handling and interfacing with the Amoeba operating system.[12] Its implementation began in December 1989.[43] Van Rossum shouldered sole responsibility for the project, as the lead developer, until 12 July 2018, when he announced his \"permanent vacation\" from his responsibilities as Python's \"benevolent dictator for life\" (BDFL), a title the Python community bestowed upon him to reflect his long-term commitment as the project's chief decision-maker[44] (he has since come out of retirement and is self-titled \"BDFL-emeritus\"). In January 2019, active Python core developers elected a five-member Steering Council to lead the project.[45][46]\n",
    "\n",
    "Python 2.0 was released on 16 October 2000, with many major new features such as list comprehensions, cycle-detecting garbage collection, reference counting, and Unicode support.[47] Python 3.0 was released on 3 December 2008, with many of its major features backported to Python 2.6.x[48] and 2.7.x. Releases of Python 3 include the 2to3 utility, which automates the translation of Python 2 code to Python 3.[49]\n",
    "\n",
    "Python 2.7's end-of-life was initially set for 2015, then postponed to 2020 out of concern that a large body of existing code could not easily be forward-ported to Python 3.[50][51] No further security patches or other improvements will be released for it.[52][53] Currently only 3.9 and later are supported (2023 security issues were fixed in e.g. 3.7.17, the final 3.7.x release[54]). While Python 2.7 and older is officially unsupported, a different unofficial Python implementation, PyPy, continues to support Python 2, i.e. \"2.7.18+\" (plus 3.10), with the plus meaning (at least some) \"backported security updates\".[55]\n",
    "\n",
    "In 2021 (and again twice in 2022, and in September 2024 for Python 3.12.6 down to 3.8.20), security updates were expedited, since all Python versions were insecure (including 2.7[56]) because of security issues leading to possible remote code execution[57] and web-cache poisoning.[58] In 2022, Python 3.10.4 and 3.9.12 were expedited[59] and 3.8.13, because of many security issues.[60] When Python 3.9.13 was released in May 2022, it was announced that the 3.9 series (joining the older series 3.8 and 3.7) would only receive security fixes in the future.[61] On 7 September 2022, four new releases were made due to a potential denial-of-service attack: 3.10.7, 3.9.14, 3.8.14, and 3.7.14.[62][63]\n",
    "\n",
    "Every Python release since 3.5 has added some syntax to the language. 3.10 added the | union type operator[64] and the match and case keywords (for structural pattern matching statements). 3.11 expanded exception handling functionality. Python 3.12 added the new keyword type. Notable changes in 3.11 from 3.10 include increased program execution speed and improved error reporting.[65] Python 3.11 claims to be between 10 and 60% faster than Python 3.10, and Python 3.12 adds another 5% on top of that. It also has improved error messages, and many other changes.\n",
    "\n",
    "Python 3.13 introduces more syntax for types, a new and improved interactive interpreter (REPL), featuring multi-line editing and color support; an incremental garbage collector (producing shorter pauses for collection in programs with a lot of objects, and addition to the improved speed in 3.11 and 3.12), and an experimental just-in-time (JIT) compiler (such features, can/needs to be enabled specifically for the increase in speed),[66] and an experimental free-threaded build mode, which disables the global interpreter lock (GIL), allowing threads to run more concurrently, that latter feature enabled with python3.13t or python3.13t.exe.\n",
    "\n",
    "Python 3.13 introduces some change in behavior, i.e. new \"well-defined semantics\", fixing bugs (plus many removals of deprecated classes, functions and methods, and removed some of the C API and outdated modules): \"The [old] implementation of locals() and frame.f_locals is slow, inconsistent and buggy [and it has] has many corner cases and oddities. Code that works around those may need to be changed. Code that uses locals() for simple templating, or print debugging, will continue to work correctly.\"[67]\n",
    "\n",
    "Since 7 October 2024, Python 3.13 is the latest stable release, and 3.13 and 3.12 are the only versions with active (as opposed to just security) support and Python 3.9 is the oldest supported version of Python (albeit in the 'security support' phase), due to Python 3.8 reaching end-of-life.[68] Starting with 3.13, it and later versions have 2 years of full support (up from one and a half); followed by 3 years of security support (for same total support as before).\n",
    "\n",
    "Some (more) standard library modules and many deprecated classes, functions and methods, will be removed in Python 3.15 or 3.16.[69][70]\n",
    "\n",
    "Python 3.14 (now in alpha 1)[71] has changes for annotations, with PEP 649 \"[preserving] nearly all existing behavior of annotations from stock semantics\".[72]\n",
    "\n",
    "Design philosophy and features\n",
    "Python is a multi-paradigm programming language. Object-oriented programming and structured programming are fully supported, and many of their features support functional programming and aspect-oriented programming (including metaprogramming[73] and metaobjects).[74] Many other paradigms are supported via extensions, including design by contract[75][76] and logic programming.[77] Python is known as a glue language,[78] able to work very well with many other languages with ease of access.\n",
    "\n",
    "Python uses dynamic typing and a combination of reference counting and a cycle-detecting garbage collector for memory management.[79] It uses dynamic name resolution (late binding), which binds method and variable names during program execution.\n",
    "\n",
    "Its design offers some support for functional programming in the Lisp tradition. It has filter,mapandreduce functions; list comprehensions, dictionaries, sets, and generator expressions.[80] The standard library has two modules (itertools and functools) that implement functional tools borrowed from Haskell and Standard ML.[81]\n",
    "\n",
    "Its core philosophy is summarized in the Zen of Python (PEP 20), which includes aphorisms such as:[82]\n",
    "\n",
    "Beautiful is better than ugly.\n",
    "Explicit is better than implicit.\n",
    "Simple is better than complex.\n",
    "Complex is better than complicated.\n",
    "Readability counts.\n",
    "However, Python features regularly violate these principles and have received criticism for adding unnecessary language bloat.[83] Responses to these criticisms are that the Zen of Python is a guideline rather than a rule.[84] The addition of some new features had been so controversial that Guido van Rossum resigned as Benevolent Dictator for Life following vitriol over the addition of the assignment expression operator in Python 3.8.[85][86]\n",
    "\n",
    "Nevertheless, rather than building all of its functionality into its core, Python was designed to be highly extensible via modules. This compact modularity has made it particularly popular as a means of adding programmable interfaces to existing applications. Van Rossum's vision of a small core language with a large standard library and easily extensible interpreter stemmed from his frustrations with ABC, which espoused the opposite approach.[41]\n",
    "\n",
    "Python claims to strive for a simpler, less-cluttered syntax and grammar while giving developers a choice in their coding methodology. In contrast to Perl's \"there is more than one way to do it\" motto, Python embraces a \"there should be one—and preferably only one—obvious way to do it.\" philosophy.[82] In practice, however, Python provides many ways to achieve the same task. There are, for example, at least three ways to format a string literal, with no certainty as to which one a programmer should use.[87] Alex Martelli, a Fellow at the Python Software Foundation and Python book author, wrote: \"To describe something as 'clever' is not considered a compliment in the Python culture.\"[88]\n",
    "\n",
    "Python's developers usually strive to avoid premature optimization and reject patches to non-critical parts of the CPython reference implementation that would offer marginal increases in speed at the cost of clarity.[89] Execution speed can be improved by moving speed-critical functions to extension modules written in languages such as C, or by using a just-in-time compiler like PyPy. It is also possible to cross-compile to other languages, but it either doesn't provide the full speed-up that might be expected, since Python is a very dynamic language, or a restricted subset of Python is compiled, and possibly semantics are slightly changed.[90]\n",
    "\n",
    "Python's developers aim for it to be fun to use. This is reflected in its name—a tribute to the British comedy group Monty Python[91]—and in occasionally playful approaches to tutorials and reference materials, such as the use of the terms \"spam\" and \"eggs\" (a reference to a Monty Python sketch) in examples, instead of the often-used \"foo\" and \"bar\".[92][93] A common neologism in the Python community is pythonic, which has a wide range of meanings related to program style. \"Pythonic\" code may use Python idioms well, be natural or show fluency in the language, or conform with Python's minimalist philosophy and emphasis on readability. Code that is difficult to understand or reads like a rough transcription from another programming language is called unpythonic.[94]\n",
    "\n",
    "Syntax and semantics\n",
    "Main article: Python syntax and semantics\n",
    "Block of Python code showing sample source code\n",
    "An example of Python code and indentation\n",
    "C code featuring curly braces and semicolon\n",
    "Example of C# code with curly braces and semicolons\n",
    "Python is meant to be an easily readable language. Its formatting is visually uncluttered and often uses English keywords where other languages use punctuation. Unlike many other languages, it does not use curly brackets to delimit blocks, and semicolons after statements are allowed but rarely used. It has fewer syntactic exceptions and special cases than C or Pascal.[95]\n",
    "\n",
    "Indentation\n",
    "Main article: Python syntax and semantics § Indentation\n",
    "Python uses whitespace indentation, rather than curly brackets or keywords, to delimit blocks. An increase in indentation comes after certain statements; a decrease in indentation signifies the end of the current block.[96] Thus, the program's visual structure accurately represents its semantic structure.[97] This feature is sometimes termed the off-side rule. Some other languages use indentation this way; but in most, indentation has no semantic meaning. The recommended indent size is four spaces.[98]\n",
    "\n",
    "Statements and control flow\n",
    "Python's statements include:\n",
    "\n",
    "The assignment statement, using a single equals sign =\n",
    "The if statement, which conditionally executes a block of code, along with else and elif (a contraction of else-if)\n",
    "The for statement, which iterates over an iterable object, capturing each element to a local variable for use by the attached block\n",
    "The while statement, which executes a block of code as long as its condition is true\n",
    "The try statement, which allows exceptions raised in its attached code block to be caught and handled by except clauses (or new syntax except* in Python 3.11 for exception groups[99]); it also ensures that clean-up code in a finally block is always run regardless of how the block exits\n",
    "The raise statement, used to raise a specified exception or re-raise a caught exception\n",
    "The class statement, which executes a block of code and attaches its local namespace to a class, for use in object-oriented programming\n",
    "The def statement, which defines a function or method\n",
    "The with statement, which encloses a code block within a context manager (for example, acquiring a lock before it is run, then releasing the lock; or opening and closing a file), allowing resource-acquisition-is-initialization (RAII)-like behavior and replacing a common try/finally idiom[100]\n",
    "The break statement, which exits a loop\n",
    "The continue statement, which skips the rest of the current iteration and continues with the next\n",
    "The del statement, which removes a variable—deleting the reference from the name to the value, and producing an error if the variable is referred to before it is redefined\n",
    "The pass statement, serving as a NOP, syntactically needed to create an empty code block\n",
    "The assert statement, used in debugging to check for conditions that should apply\n",
    "The yield statement, which returns a value from a generator function (and also an operator); used to implement coroutines\n",
    "The return statement, used to return a value from a function\n",
    "The import and from statements, used to import modules whose functions or variables can be used in the current program\n",
    "The match and case statements, an analog of the switch statement construct, that compares an expression against one or more cases as a control-of-flow measure.\n",
    "The assignment statement (=) binds a name as a reference to a separate, dynamically allocated object. Variables may subsequently be rebound at any time to any object. In Python, a variable name is a generic reference holder without a fixed data type; however, it always refers to some object with a type. This is called dynamic typing—in contrast to statically-typed languages, where each variable may contain only a value of a certain type.\n",
    "\n",
    "Python does not support tail call optimization or first-class continuations, and, according to Van Rossum, it never will.[101][102] However, better support for coroutine-like functionality is provided by extending Python's generators.[103] Before 2.5, generators were lazy iterators; data was passed unidirectionally out of the generator. From Python 2.5 on, it is possible to pass data back into a generator function; and from version 3.3, it can be passed through multiple stack levels.[104]\n",
    "\n",
    "Expressions\n",
    "Python's expressions include:\n",
    "\n",
    "The +, -, and * operators for mathematical addition, subtraction, and multiplication are similar to other languages, but the behavior of division differs. There are two types of divisions in Python: floor division (or integer division) // and floating-point/division.[105] Python uses the ** operator for exponentiation.\n",
    "Python uses the + operator for string concatenation. Python uses the * operator for duplicating a string a specified number of times.\n",
    "The @ infix operator. It is intended to be used by libraries such as NumPy for matrix multiplication.[106][107]\n",
    "The syntax :=, called the \"walrus operator\", was introduced in Python 3.8. It assigns values to variables as part of a larger expression.[108]\n",
    "In Python, == compares by value. Python's is operator may be used to compare object identities (comparison by reference), and comparisons may be chained—for example, a <= b <= c.\n",
    "Python uses and, or, and not as Boolean operators.\n",
    "Python has a type of expression named a list comprehension, and a more general expression named a generator expression.[80]\n",
    "Anonymous functions are implemented using lambda expressions; however, there may be only one expression in each body.\n",
    "Conditional expressions are written as x if c else y[109] (different in order of operands from the c ? x : y operator common to many other languages).\n",
    "Python makes a distinction between lists and tuples. Lists are written as [1, 2, 3], are mutable, and cannot be used as the keys of dictionaries (dictionary keys must be immutable in Python). Tuples, written as (1, 2, 3), are immutable and thus can be used as keys of dictionaries, provided all of the tuple's elements are immutable. The + operator can be used to concatenate two tuples, which does not directly modify their contents, but produces a new tuple containing the elements of both. Thus, given the variable t initially equal to (1, 2, 3), executing t = t + (4, 5) first evaluates t + (4, 5), which yields (1, 2, 3, 4, 5), which is then assigned back to t—thereby effectively \"modifying the contents\" of t while conforming to the immutable nature of tuple objects. Parentheses are optional for tuples in unambiguous contexts.[110]\n",
    "Python features sequence unpacking where multiple expressions, each evaluating to anything that can be assigned (to a variable, writable property, etc.) are associated in an identical manner to that forming tuple literals—and, as a whole, are put on the left-hand side of the equal sign in an assignment statement. The statement expects an iterable object on the right-hand side of the equal sign that produces the same number of values as the provided writable expressions; when iterated through them, it assigns each of the produced values to the corresponding expression on the left.[111]\n",
    "Python has a \"string format\" operator % that functions analogously to printf format strings in C—e.g. \"spam=%s eggs=%d\" % (\"blah\", 2) evaluates to \"spam=blah eggs=2\". In Python 2.6+ and 3+, this was supplemented by the format() method of the str class, e.g. \"spam={0} eggs={1}\".format(\"blah\", 2). Python 3.6 added \"f-strings\": spam = \"blah\"; eggs = 2; f'spam={spam} eggs={eggs}'.[112]\n",
    "Strings in Python can be concatenated by \"adding\" them (with the same operator as for adding integers and floats), e.g. \"spam\" + \"eggs\" returns \"spameggs\". If strings contain numbers, they are added as strings rather than integers, e.g. \"2\" + \"2\" returns \"22\".\n",
    "Python has various string literals:\n",
    "Delimited by single or double quotes; unlike in Unix shells, Perl, and Perl-influenced languages, single and double quotes work the same. Both use the backslash (\\) as an escape character. String interpolation became available in Python 3.6 as \"formatted string literals\".[112]\n",
    "Triple-quoted (beginning and ending with three single or double quotes), which may span multiple lines and function like here documents in shells, Perl, and Ruby.\n",
    "Raw string varieties, denoted by prefixing the string literal with r. Escape sequences are not interpreted; hence raw strings are useful where literal backslashes are common, such as regular expressions and Windows-style paths. (Compare \"@-quoting\" in C#.)\n",
    "Python has array index and array slicing expressions in lists, denoted as a[key], a[start:stop] or a[start:stop:step]. Indexes are zero-based, and negative indexes are relative to the end. Slices take elements from the start index up to, but not including, the stop index. The third slice parameter, called step or stride, allows elements to be skipped and reversed. Slice indexes may be omitted—for example, a[:] returns a copy of the entire list. Each element of a slice is a shallow copy.\n",
    "In Python, a distinction between expressions and statements is rigidly enforced, in contrast to languages such as Common Lisp, Scheme, or Ruby. This leads to duplicating some functionality. For example:\n",
    "\n",
    "List comprehensions vs. for-loops\n",
    "Conditional expressions vs. if blocks\n",
    "The eval() vs. exec() built-in functions (in Python 2, exec is a statement); the former is for expressions, the latter is for statements\n",
    "Statements cannot be a part of an expression—so list and other comprehensions or lambda expressions, all being expressions, cannot contain statements. A particular case is that an assignment statement such as a = 1 cannot form part of the conditional expression of a conditional statement.\n",
    "\n",
    "Methods\n",
    "Methods on objects are functions attached to the object's class; the syntax instance.method(argument) is, for normal methods and functions, syntactic sugar for Class.method(instance, argument). Python methods have an explicit self parameter to access instance data, in contrast to the implicit self (or this) in some other object-oriented programming languages (e.g., C++, Java, Objective-C, Ruby).[113] Python also provides methods, often called dunder methods (due to their names beginning and ending with double-underscores), to allow user-defined classes to modify how they are handled by native operations including length, comparison, in arithmetic operations and type conversion.[114]\n",
    "\n",
    "Typing\n",
    "\n",
    "The standard type hierarchy in Python 3\n",
    "Python uses duck typing and has typed objects but untyped variable names. Type constraints are not checked at compile time; rather, operations on an object may fail, signifying that it is not of a suitable type. Despite being dynamically typed, Python is strongly typed, forbidding operations that are not well-defined (for example, adding a number to a string) rather than silently attempting to make sense of them.\n",
    "\n",
    "Python allows programmers to define their own types using classes, most often used for object-oriented programming. New instances of classes are constructed by calling the class (for example, SpamClass() or EggsClass()), and the classes are instances of the metaclass type (itself an instance of itself), allowing metaprogramming and reflection.\n",
    "\n",
    "Before version 3.0, Python had two kinds of classes (both using the same syntax): old-style and new-style;[115] current Python versions only support the semantics of the new style.\n",
    "\n",
    "Python supports optional type annotations.[4][116] These annotations are not enforced by the language, but may be used by external tools such as mypy to catch errors.[117][118] Mypy also supports a Python compiler called mypyc, which leverages type annotations for optimization.[119]\n",
    "\n",
    "Summary of Python 3's built-in types\n",
    "Type\tMutability\tDescription\tSyntax examples\n",
    "bool\timmutable\tBoolean value\tTrue\n",
    "False\n",
    "bytearray\tmutable\tSequence of bytes\tbytearray(b'Some ASCII')\n",
    "bytearray(b\"Some ASCII\")\n",
    "bytearray([119, 105, 107, 105])\n",
    "bytes\timmutable\tSequence of bytes\tb'Some ASCII'\n",
    "b\"Some ASCII\"\n",
    "bytes([119, 105, 107, 105])\n",
    "complex\timmutable\tComplex number with real and imaginary parts\t3+2.7j\n",
    "3 + 2.7j\n",
    "dict\tmutable\tAssociative array (or dictionary) of key and value pairs; can contain mixed types (keys and values), keys must be a hashable type\t{'key1': 1.0, 3: False}\n",
    "{}\n",
    "types.EllipsisType\timmutable\tAn ellipsis placeholder to be used as an index in NumPy arrays\t...\n",
    "Ellipsis\n",
    "float\timmutable\tDouble-precision floating-point number. The precision is machine-dependent but in practice is generally implemented as a 64-bit IEEE 754 number with 53 bits of precision.[120]\t\n",
    "1.33333\n",
    "\n",
    "frozenset\timmutable\tUnordered set, contains no duplicates; can contain mixed types, if hashable\tfrozenset([4.0, 'string', True])\n",
    "int\timmutable\tInteger of unlimited magnitude[121]\t42\n",
    "list\tmutable\tList, can contain mixed types\t[4.0, 'string', True]\n",
    "[]\n",
    "types.NoneType\timmutable\tAn object representing the absence of a value, often called null in other languages\tNone\n",
    "types.NotImplementedType\timmutable\tA placeholder that can be returned from overloaded operators to indicate unsupported operand types.\tNotImplemented\n",
    "range\timmutable\tAn immutable sequence of numbers commonly used for looping a specific number of times in for loops[122]\trange(−1, 10)\n",
    "range(10, −5, −2)\n",
    "set\tmutable\tUnordered set, contains no duplicates; can contain mixed types, if hashable\t{4.0, 'string', True}\n",
    "set()\n",
    "str\timmutable\tA character string: sequence of Unicode codepoints\t'Wikipedia'\n",
    "\"Wikipedia\"\n",
    "\"\"\"Spanning\n",
    "multiple\n",
    "lines\"\"\"\n",
    "Spanning\n",
    "multiple\n",
    "lines\n",
    "tuple\timmutable\tCan contain mixed types\t(4.0, 'string', True)\n",
    "('single element',)\n",
    "()\n",
    "Arithmetic operations\n",
    "Python has the usual symbols for arithmetic operators (+, -, *, /), the floor division operator // and the modulo operation % (where the remainder can be negative, e.g. 4 % -3 == -2). It also has ** for exponentiation, e.g. 5**3 == 125 and 9**0.5 == 3.0, and a matrix‑multiplication operator @ .[123] These operators work like in traditional math; with the same precedence rules, the operators infix (+ and - can also be unary to represent positive and negative numbers respectively).\n",
    "\n",
    "The division between integers produces floating-point results. The behavior of division has changed significantly over time:[124]\n",
    "\n",
    "Current Python (i.e. since 3.0) changed / to always be floating-point division, e.g. 5/2 == 2.5.\n",
    "The floor division // operator was introduced. So 7//3 == 2, -7//3 == -3, 7.5//3 == 2.0 and -7.5//3 == -3.0. Adding from __future__ import division causes a module used in Python 2.7 to use Python 3.0 rules for division (see above).\n",
    "In Python terms, / is true division (or simply division), and // is floor division. / before version 3.0 is classic division.[124]\n",
    "\n",
    "Rounding towards negative infinity, though different from most languages, adds consistency. For instance, it means that the equation (a + b)//b == a//b + 1 is always true. It also means that the equation b*(a//b) + a%b == a is valid for both positive and negative values of a. However, maintaining the validity of this equation means that while the result of a%b is, as expected, in the half-open interval [0, b), where b is a positive integer, it has to lie in the interval (b, 0] when b is negative.[125]\n",
    "\n",
    "Python provides a round function for rounding a float to the nearest integer. For tie-breaking, Python 3 uses round to even: round(1.5) and round(2.5) both produce 2.[126] Versions before 3 used round-away-from-zero: round(0.5) is 1.0, round(-0.5) is −1.0.[127]\n",
    "\n",
    "Python allows Boolean expressions with multiple equality relations in a manner that is consistent with general use in mathematics. For example, the expression a < b < c tests whether a is less than b and b is less than c.[128] C-derived languages interpret this expression differently: in C, the expression would first evaluate a < b, resulting in 0 or 1, and that result would then be compared with c.[129]\n",
    "\n",
    "Python uses arbitrary-precision arithmetic for all integer operations. The Decimal type/class in the decimal module provides decimal floating-point numbers to a pre-defined arbitrary precision and several rounding modes.[130] The Fraction class in the fractions module provides arbitrary precision for rational numbers.[131]\n",
    "\n",
    "Due to Python's extensive mathematics library, and the third-party library NumPy that further extends the native capabilities, it is frequently used as a scientific scripting language to aid in problems such as numerical data processing and manipulation.[132][133]\n",
    "\n",
    "Programming examples\n",
    "\"Hello, World!\" program:\n",
    "\n",
    "print('Hello, world!')\n",
    "Program to calculate the factorial of a positive integer:\n",
    "\n",
    "n = int(input('Type a number, and its factorial will be printed: '))\n",
    "\n",
    "if n < 0:\n",
    "    raise ValueError('You must enter a non-negative integer')\n",
    "\n",
    "factorial = 1\n",
    "for i in range(2, n + 1):\n",
    "    factorial *= i\n",
    "\n",
    "print(factorial)\n",
    "Libraries\n",
    "Python's large standard library[134] provides tools suited to many tasks and is commonly cited as one of its greatest strengths. For Internet-facing applications, many standard formats and protocols such as MIME and HTTP are supported. It includes modules for creating graphical user interfaces, connecting to relational databases, generating pseudorandom numbers, arithmetic with arbitrary-precision decimals,[130] manipulating regular expressions, and unit testing.\n",
    "\n",
    "Some parts of the standard library are covered by specifications—for example, the Web Server Gateway Interface (WSGI) implementation wsgiref follows PEP 333[135]—but most are specified by their code, internal documentation, and test suites. However, because most of the standard library is cross-platform Python code, only a few modules need altering or rewriting for variant implementations.\n",
    "\n",
    "As of 17 March 2024, the Python Package Index (PyPI), the official repository for third-party Python software, contains over 523,000[136] packages with a wide range of functionality, including:\n",
    "\n",
    "Automation\n",
    "Data analytics\n",
    "Databases\n",
    "Documentation\n",
    "Graphical user interfaces\n",
    "Image processing\n",
    "Machine learning\n",
    "Mobile apps\n",
    "Multimedia\n",
    "Computer networking\n",
    "Scientific computing\n",
    "System administration\n",
    "Test frameworks\n",
    "Text processing\n",
    "Web frameworks\n",
    "Web scraping\n",
    "Development environments\n",
    "See also: Comparison of integrated development environments § Python\n",
    "Most Python implementations (including CPython) include a read–eval–print loop (REPL), permitting them to function as a command line interpreter for which users enter statements sequentially and receive results immediately.\n",
    "\n",
    "Python also comes with an Integrated development environment (IDE) called IDLE, which is more beginner-oriented.\n",
    "\n",
    "Other shells, including IDLE and IPython, add further abilities such as improved auto-completion, session state retention, and syntax highlighting.\n",
    "\n",
    "As well as standard desktop integrated development environments including PyCharm, IntelliJ Idea, Visual Studio Code etc, there are web browser-based IDEs, including SageMath, for developing science- and math-related programs; PythonAnywhere, a browser-based IDE and hosting environment; and Canopy IDE, a commercial IDE emphasizing scientific computing.[137]\n",
    "\n",
    "Implementations\n",
    "See also: List of Python software § Python implementations\n",
    "Reference implementation\n",
    "CPython is the reference implementation of Python. It is written in C, meeting the C89 standard (Python 3.11 uses C11[138]) with several select C99 features. CPython includes its own C extensions, but third-party extensions are not limited to older C versions—e.g. they can be implemented with C11 or C++.[139][140] CPython compiles Python programs into an intermediate bytecode[141] which is then executed by its virtual machine.[142] CPython is distributed with a large standard library written in a mixture of C and native Python, and is available for many platforms, including Windows (starting with Python 3.9, the Python installer deliberately fails to install on Windows 7 and 8;[143][144] Windows XP was supported until Python 3.5) and most modern Unix-like systems, including macOS (and Apple M1 Macs, since Python 3.9.1, with experimental installer), with unofficial support for VMS.[145] Platform portability was one of its earliest priorities.[146] (During Python 1 and 2 development, even OS/2 and Solaris were supported,[147] but support has since been dropped for many platforms.)\n",
    "\n",
    "All current Python versions (i.e. since 3.7) only support operating systems with multi-threading support.\n",
    "\n",
    "Other implementations\n",
    "All alternative implementations have at least slightly different semantics (e.g. may have unordered dictionaries, unlike all current Python versions), e.g. with the larger Python ecosystem, such as with supporting the C Python API of with PyPy:\n",
    "\n",
    "PyPy is a fast, compliant interpreter of Python 2.7 and 3.10.[148][149] Its just-in-time compiler often brings a significant speed improvement over CPython, but some libraries written in C cannot be used with it.[150] It has e.g. RISC-V support.\n",
    "Codon is a language with an ahead-of-time (AOT) compiler, that (AOT) compiles a statically-typed Python-like language with \"syntax and semantics are nearly identical to Python's, there are some notable differences\"[151] e.g. it uses 64-bit machine integers, for speed, not arbitrary like Python, and it claims speedups over CPython are usually on the order of 10–100x. It compiles to machine code (via LLVM) and supports native multithreading.[152] Codon can also compile to Python extension modules that can be imported and used from Python.\n",
    "Stackless Python is a significant fork of CPython that implements microthreads; it does not use the call stack in the same way, thus allowing massively concurrent programs. PyPy also has a stackless version.[153]\n",
    "MicroPython and CircuitPython are Python 3 variants optimized for microcontrollers, including Lego Mindstorms EV3.[154]\n",
    "Pyston is a variant of the Python runtime that uses just-in-time compilation to speed up the execution of Python programs.[155]\n",
    "Cinder is a performance-oriented fork of CPython 3.8 that contains a number of optimizations, including bytecode inline caching, eager evaluation of coroutines, a method-at-a-time JIT, and an experimental bytecode compiler.[156]\n",
    "Snek[157][158][159] Embedded Computing Language (compatible with e.g. 8-bit AVR microcontrollers such as ATmega 328P-based Arduino, as well as larger ones compatible with MicroPython) \"is Python-inspired, but it is not Python. It is possible to write Snek programs that run under a full Python system, but most Python programs will not run under Snek.\"[160] It is an imperative language not including OOP / classes, unlike Python, and simplifying to one number type with 32-bit single-precision (similar to JavaScript, except smaller).\n",
    "No longer supported implementations\n",
    "Other just-in-time Python compilers have been developed, but are now unsupported:\n",
    "\n",
    "Google began a project named Unladen Swallow in 2009, with the aim of speeding up the Python interpreter five-fold by using the LLVM, and of improving its multithreading ability to scale to thousands of cores,[161] while ordinary implementations suffer from the global interpreter lock.\n",
    "Psyco is a discontinued just-in-time specializing compiler that integrates with CPython and transforms bytecode to machine code at runtime. The emitted code is specialized for certain data types and is faster than the standard Python code. Psyco does not support Python 2.7 or later.\n",
    "PyS60 was a Python 2 interpreter for Series 60 mobile phones released by Nokia in 2005. It implemented many of the modules from the standard library and some additional modules for integrating with the Symbian operating system. The Nokia N900 also supports Python with GTK widget libraries, enabling programs to be written and run on the target device.[162]\n",
    "Cross-compilers to other languages\n",
    "There are several compilers/transpilers to high-level object languages, with either unrestricted Python, a restricted subset of Python, or a language similar to Python as the source language:\n",
    "\n",
    "Brython,[163] Transcrypt[164][165] and Pyjs (latest release in 2012) compile Python to JavaScript.\n",
    "Cython compiles (a superset of) Python to C. The resulting code is also usable with Python via direct C-level API calls into the Python interpreter.\n",
    "PyJL compiles/transpiles a subset of Python to \"human-readable, maintainable, and high-performance Julia source code\".[90] Despite claiming high performance, no tool can claim to do that for arbitrary Python code; i.e. it's known not possible to compile to a faster language or machine code. Unless semantics of Python are changed, but in many cases speedup is possible with few or no changes in the Python code. The faster Julia source code can then be used from Python, or compiled to machine code, and based that way.\n",
    "Nuitka compiles Python into C.[166] It works with Python 3.4 to 3.12 (and 2.6 and 2.7), for Python's main supported platforms (and Windows 7 or even Windows XP) and for Android. It claims complete support for Python 3.10, some support for 3.11 and 3.12 and experimental support for Python 3.13. It supports macOS including Apple Silicon-based. It's a free compiler, though it also has commercial add-ons (e.g. for hiding source code).\n",
    "Numba is used from Python, as a tool (enabled by adding a decorator to relevant Python code), a JIT compiler that translates a subset of Python and NumPy code into fast machine code.\n",
    "Pythran compiles a subset of Python 3 to C++ (C++11).[167]\n",
    "RPython can be compiled to C, and is used to build the PyPy interpreter of Python.\n",
    "The Python → 11l → C++ transpiler[168] compiles a subset of Python 3 to C++ (C++17).\n",
    "Specialized:\n",
    "\n",
    "MyHDL is a Python-based hardware description language (HDL), that converts MyHDL code to Verilog or VHDL code.\n",
    "Older projects (or not to be used with Python 3.x and latest syntax):\n",
    "\n",
    "Google's Grumpy (latest release in 2017) transpiles Python 2 to Go.[169][170][171]\n",
    "IronPython allows running Python 2.7 programs (and an alpha, released in 2021, is also available for \"Python 3.4, although features and behaviors from later versions may be included\"[172]) on the .NET Common Language Runtime.[173]\n",
    "Jython compiles Python 2.7 to Java bytecode, allowing the use of the Java libraries from a Python program.[174]\n",
    "Pyrex (latest release in 2010) and Shed Skin (latest release in 2013) compile to C and C++ respectively.\n",
    "Performance\n",
    "Performance comparison of various Python implementations on a non-numerical (combinatorial) workload was presented at EuroSciPy '13.[175] Python's performance compared to other programming languages is also benchmarked by The Computer Language Benchmarks Game.[176]\n",
    "\n",
    "Development\n",
    "Python's development is conducted largely through the Python Enhancement Proposal (PEP) process, the primary mechanism for proposing major new features, collecting community input on issues, and documenting Python design decisions.[177] Python coding style is covered in PEP 8.[178] Outstanding PEPs are reviewed and commented on by the Python community and the steering council.[177]\n",
    "\n",
    "Enhancement of the language corresponds with the development of the CPython reference implementation. The mailing list python-dev is the primary forum for the language's development. Specific issues were originally discussed in the Roundup bug tracker hosted at by the foundation.[179] In 2022, all issues and discussions were migrated to GitHub.[180] Development originally took place on a self-hosted source-code repository running Mercurial, until Python moved to GitHub in January 2017.[181]\n",
    "\n",
    "CPython's public releases come in three types, distinguished by which part of the version number is incremented:\n",
    "\n",
    "Backward-incompatible versions, where code is expected to break and needs to be manually ported. The first part of the version number is incremented. These releases happen infrequently—version 3.0 was released 8 years after 2.0. According to Guido van Rossum, a version 4.0 is very unlikely to ever happen.[182]\n",
    "Major or \"feature\" releases are largely compatible with the previous version but introduce new features. The second part of the version number is incremented. Starting with Python 3.9, these releases are expected to happen annually.[183][184] Each major version is supported by bug fixes for several years after its release.[185]\n",
    "Bugfix releases,[186] which introduce no new features, occur about every 3 months and are made when a sufficient number of bugs have been fixed upstream since the last release. Security vulnerabilities are also patched in these releases. The third and final part of the version number is incremented.[186]\n",
    "Many alpha, beta, and release-candidates are also released as previews and for testing before final releases. Although there is a rough schedule for each release, they are often delayed if the code is not ready. Python's development team monitors the state of the code by running the large unit test suite during development.[187]\n",
    "\n",
    "The major academic conference on Python is PyCon. There are also special Python mentoring programs, such as PyLadies.\n",
    "\n",
    "Python 3.12 removed wstr meaning Python extensions[188] need to be modified,[189] and 3.10 added pattern matching to the language.[190]\n",
    "\n",
    "Python 3.12 dropped some outdated modules, and more will be dropped in the future, deprecated as of 3.13; already deprecated array 'u' format code will emit DeprecationWarning since 3.13 and will be removed in Python 3.16. The 'w' format code should be used instead. Part of ctypes is also deprecated and http.server.CGIHTTPRequestHandler will emit a DeprecationWarning, and will be removed in 3.15. Using that code already has a high potential for both security and functionality bugs. Parts of the typing module are deprecated, e.g. creating a typing.NamedTuple class using keyword arguments to denote the fields and such (and more) will be disallowed in Python 3.15.\n",
    "\n",
    "API documentation generators\n",
    "Tools that can generate documentation for Python API include pydoc (available as part of the standard library), Sphinx, Pdoc and its forks, Doxygen and Graphviz, among others.[191]\n",
    "\n",
    "Naming\n",
    "Python's name is derived from the British comedy group Monty Python, whom Python creator Guido van Rossum enjoyed while developing the language. Monty Python references appear frequently in Python code and culture;[192] for example, the metasyntactic variables often used in Python literature are spam and eggs instead of the traditional foo and bar.[192][193] The official Python documentation also contains various references to Monty Python routines.[194][195] Users of Python are sometimes referred to as \"Pythonistas\".[196]\n",
    "\n",
    "The prefix Py- is used to show that something is related to Python. Examples of the use of this prefix in names of Python applications or libraries include Pygame, a binding of Simple DirectMedia Layer to Python (commonly used to create games); PyQt and PyGTK, which bind Qt and GTK to Python respectively; and PyPy, a Python implementation originally written in Python.\n",
    "\n",
    "Popularity\n",
    "Since 2003, Python has consistently ranked in the top ten most popular programming languages in the TIOBE Programming Community Index where as of December 2022 it was the most popular language (ahead of C, C++, and Java).[39] It was selected as Programming Language of the Year (for \"the highest rise in ratings in a year\") in 2007, 2010, 2018, and 2020 (the only language to have done so four times as of 2020[197]).\n",
    "\n",
    "Large organizations that use Python include Wikipedia, Google,[198] Yahoo!,[199] CERN,[200] NASA,[201] Facebook,[202] Amazon, Instagram,[203] Spotify,[204] and some smaller entities like Industrial Light & Magic[205] and ITA.[206] The social news networking site Reddit was written mostly in Python.[207] Organizations that partially use Python include Discord[208] and Baidu.[209]\n",
    "\n",
    "Uses\n",
    "Main article: List of Python software\n",
    "\n",
    "Python Powered\n",
    "Python can serve as a scripting language for web applications, e.g. via mod_wsgi for the Apache webserver.[210] With Web Server Gateway Interface, a standard API has evolved to facilitate these applications. Web frameworks like Django, Pylons, Pyramid, TurboGears, web2py, Tornado, Flask, Bottle, and Zope support developers in the design and maintenance of complex applications. Pyjs and IronPython can be used to develop the client-side of Ajax-based applications. SQLAlchemy can be used as a data mapper to a relational database. Twisted is a framework to program communications between computers, and is used (for example) by Dropbox.\n",
    "\n",
    "Libraries such as NumPy, SciPy and Matplotlib allow the effective use of Python in scientific computing,[211][212] with specialized libraries such as Biopython and Astropy providing domain-specific functionality. SageMath is a computer algebra system with a notebook interface programmable in Python: its library covers many aspects of mathematics, including algebra, combinatorics, numerical mathematics, number theory, and calculus.[213] OpenCV has Python bindings with a rich set of features for computer vision and image processing.[214]\n",
    "\n",
    "Python is commonly used in artificial intelligence projects and machine learning projects with the help of libraries like TensorFlow, Keras, Pytorch, scikit-learn and the Logic language ProbLog.[215][216][217][218][219] As a scripting language with a modular architecture, simple syntax, and rich text processing tools, Python is often used for natural language processing.[220]\n",
    "\n",
    "The combination of Python and Prolog has proved to be particularly useful for AI applications, with Prolog providing knowledge representation and reasoning capabilities. The Janus system, in particular, exploits the similarities between these two languages, in part because of their use of dynamic typing, and the simple recursive nature of their data structures. Typical applications of this combination include natural language processing, visual query answering, geospatial reasoning, and handling of semantic web data.[221][222] The Natlog system, implemented in Python, uses Definite Clause Grammars (DCGs) as prompt generators for text-to-text generators like GPT3 and text-to-image generators like DALL-E or Stable Diffusion.[223]\n",
    "\n",
    "Python can also be used for graphical user interface (GUI) by using libraries like Tkinter.[224][225]\n",
    "\n",
    "Python has been successfully embedded in many software products as a scripting language, including in finite element method software such as Abaqus, 3D parametric modelers like FreeCAD, 3D animation packages such as 3ds Max, Blender, Cinema 4D, Lightwave, Houdini, Maya, modo, MotionBuilder, Softimage, the visual effects compositor Nuke, 2D imaging programs like GIMP,[226] Inkscape, Scribus and Paint Shop Pro,[227] and musical notation programs like scorewriter and capella. GNU Debugger uses Python as a pretty printer to show complex structures such as C++ containers. Esri promotes Python as the best choice for writing scripts in ArcGIS.[228] It has also been used in several video games,[229][230] and has been adopted as first of the three available programming languages in Google App Engine, the other two being Java and Go.[231]\n",
    "\n",
    "Many operating systems include Python as a standard component. It ships with most Linux distributions,[232] AmigaOS 4 (using Python 2.7), FreeBSD (as a package), NetBSD, and OpenBSD (as a package) and can be used from the command line (terminal). Many Linux distributions use installers written in Python: Ubuntu uses the Ubiquity installer, while Red Hat Linux and Fedora Linux use the Anaconda installer. Gentoo Linux uses Python in its package management system, Portage.\n",
    "\n",
    "Python is used extensively in the information security industry, including in exploit development.[233][234]\n",
    "\n",
    "Most of the Sugar software for the One Laptop per Child XO, developed at Sugar Labs as of 2008, is written in Python.[235] The Raspberry Pi single-board computer project has adopted Python as its main user-programming language.\n",
    "\n",
    "LibreOffice includes Python and intends to replace Java with Python. Its Python Scripting Provider is a core feature[236] since Version 4.0 from 7 February 2013.\n",
    "\n",
    "Languages influenced by Python\n",
    "Python's design and philosophy have influenced many other programming languages:\n",
    "\n",
    "Boo uses indentation, a similar syntax, and a similar object model.[237]\n",
    "Cobra uses indentation and a similar syntax, and its Acknowledgements document lists Python first among languages that influenced it.[238]\n",
    "CoffeeScript, a programming language that cross-compiles to JavaScript, has Python-inspired syntax.\n",
    "ECMAScript–JavaScript borrowed iterators and generators from Python.[239]\n",
    "GDScript, a scripting language very similar to Python, built-in to the Godot game engine.[240]\n",
    "Go is designed for the \"speed of working in a dynamic language like Python\"[241] and shares the same syntax for slicing arrays.\n",
    "Groovy was motivated by the desire to bring the Python design philosophy to Java.[242]\n",
    "Julia was designed to be \"as usable for general programming as Python\".[27]\n",
    "Mojo is a non-strict[28][243] superset of Python (e.g. still missing classes, and adding e.g. struct).[244]\n",
    "Nim uses indentation and similar syntax.[245]\n",
    "Ruby's creator, Yukihiro Matsumoto, has said: \"I wanted a scripting language that was more powerful than Perl, and more object-oriented than Python. That's why I decided to design my own language.\"[246]\n",
    "Swift, a programming language developed by Apple, has some Python-inspired syntax.[247]\n",
    "Kotlin blends Python and Java features, minimizing boilerplate code for enhanced developer efficiency.[248]\n",
    "Python's development practices have also been emulated by other languages. For example, the practice of requiring a document describing the rationale for, and issues surrounding, a change to the language (in Python, a PEP) is also used in Tcl,[249] Erlang,[250] and Swift.[251]\n",
    "\n",
    "See also\n",
    "icon\tComputer programming portal\n",
    "\tFree and open-source software portal\n",
    "Python syntax and semantics\n",
    "pip (package manager)\n",
    "List of programming languages\n",
    "History of programming languages\n",
    "Comparison of programming languages\n",
    "References\n",
    " \"General Python FAQ – Python 3 documentation\". docs.python.org. Retrieved 7 July 2024.\n",
    " \"Python 0.9.1 part 01/21\". alt.sources archives. Archived from the original on 11 August 2021. Retrieved 11 August 2021.\n",
    " \"Why is Python a dynamic language and also a strongly typed language\". Python Wiki. Archived from the original on 14 March 2021. Retrieved 27 January 2021.\n",
    " \"PEP 483 – The Theory of Type Hints\". Python.org. Archived from the original on 14 June 2020. Retrieved 14 June 2018.\n",
    " \"PEP 11 – CPython platform support | peps.python.org\". Python Enhancement Proposals (PEPs). Retrieved 22 April 2024.\n",
    " \"PEP 738 – Adding Android as a supported platform | peps.python.org\". Python Enhancement Proposals (PEPs). Retrieved 19 May 2024.\n",
    " \"Download Python for Other Platforms\". Python.org. Archived from the original on 27 November 2020. Retrieved 18 August 2023.\n",
    " \"test – Regression tests package for Python – Python 3.7.13 documentation\". docs.python.org. Archived from the original on 17 May 2022. Retrieved 17 May 2022.\n",
    " \"platform – Access to underlying platform's identifying data – Python 3.10.4 documentation\". docs.python.org. Archived from the original on 17 May 2022. Retrieved 17 May 2022.\n",
    " Holth, Moore (30 March 2014). \"PEP 0441 – Improving Python ZIP Application Support\". Archived from the original on 26 December 2018. Retrieved 12 November 2015.\n",
    " \"Starlark Language\". Archived from the original on 15 June 2020. Retrieved 25 May 2019.\n",
    " \"Why was Python created in the first place?\". General Python FAQ. Python Software Foundation. Archived from the original on 24 October 2012. Retrieved 22 March 2007. I had extensive experience with implementing an interpreted language in the ABC group at CWI, and from working with this group I had learned a lot about language design. This is the origin of many Python features, including the use of indentation for statement grouping and the inclusion of very high-level data types (although the details are all different in Python).\n",
    " \"Ada 83 Reference Manual (raise statement)\". Archived from the original on 22 October 2019. Retrieved 7 January 2020.\n",
    " Kuchling, Andrew M. (22 December 2006). \"Interview with Guido van Rossum (July 1998)\". amk.ca. Archived from the original on 1 May 2007. Retrieved 12 March 2012. I'd spent a summer at DEC's Systems Research Center, which introduced me to Modula-2+; the Modula-3 final report was being written there at about the same time. What I learned there later showed up in Python's exception handling, modules, and the fact that methods explicitly contain 'self' in their parameter list. String slicing came from Algol-68 and Icon.\n",
    " \"itertools – Functions creating iterators for efficient looping – Python 3.7.1 documentation\". docs.python.org. Archived from the original on 14 June 2020. Retrieved 22 November 2016. This module implements a number of iterator building blocks inspired by constructs from APL, Haskell, and SML.\n",
    " van Rossum, Guido (1993). \"An Introduction to Python for UNIX/C Programmers\". Proceedings of the NLUUG Najaarsconferentie (Dutch UNIX Users Group). CiteSeerX 10.1.1.38.2023. even though the design of C is far from ideal, its influence on Python is considerable.\n",
    " \"Classes\". The Python Tutorial. Python Software Foundation. Archived from the original on 23 October 2012. Retrieved 20 February 2012. It is a mixture of the class mechanisms found in C++ and Modula-3\n",
    " Lundh, Fredrik. \"Call By Object\". effbot.org. Archived from the original on 23 November 2019. Retrieved 21 November 2017. replace \"CLU\" with \"Python\", \"record\" with \"instance\", and \"procedure\" with \"function or method\", and you get a pretty accurate description of Python's object model.\n",
    " Simionato, Michele. \"The Python 2.3 Method Resolution Order\". Python Software Foundation. Archived from the original on 20 August 2020. Retrieved 29 July 2014. The C3 method itself has nothing to do with Python, since it was invented by people working on Dylan and it is described in a paper intended for lispers\n",
    " Kuchling, A. M. \"Functional Programming HOWTO\". Python v2.7.2 documentation. Python Software Foundation. Archived from the original on 24 October 2012. Retrieved 9 February 2012. List comprehensions and generator expressions [...] are a concise notation for such operations, borrowed from the functional programming language Haskell.\n",
    " Schemenauer, Neil; Peters, Tim; Hetland, Magnus Lie (18 May 2001). \"PEP 255 – Simple Generators\". Python Enhancement Proposals. Python Software Foundation. Archived from the original on 5 June 2020. Retrieved 9 February 2012.\n",
    " \"More Control Flow Tools\". Python 3 documentation. Python Software Foundation. Archived from the original on 4 June 2016. Retrieved 24 July 2015. By popular demand, a few features commonly found in functional programming languages like Lisp have been added to Python. With the lambda keyword, small anonymous functions can be created.\n",
    " \"re – Regular expression operations – Python 3.10.6 documentation\". docs.python.org. Archived from the original on 18 July 2018. Retrieved 6 September 2022. This module provides regular expression matching operations similar to those found in Perl.\n",
    " \"CoffeeScript\". coffeescript.org. Archived from the original on 12 June 2020. Retrieved 3 July 2018.\n",
    " \"Perl and Python influences in JavaScript\". www.2ality.com. 24 February 2013. Archived from the original on 26 December 2018. Retrieved 15 May 2015.\n",
    " Rauschmayer, Axel. \"Chapter 3: The Nature of JavaScript; Influences\". O'Reilly, Speaking JavaScript. Archived from the original on 26 December 2018. Retrieved 15 May 2015.\n",
    " \"Why We Created Julia\". Julia website. February 2012. Archived from the original on 2 May 2020. Retrieved 5 June 2014. We want something as usable for general programming as Python [...]\n",
    " Krill, Paul (4 May 2023). \"Mojo language marries Python and MLIR for AI development\". InfoWorld. Archived from the original on 5 May 2023. Retrieved 5 May 2023.\n",
    " Ring Team (4 December 2017). \"Ring and other languages\". ring-lang.net. ring-lang. Archived from the original on 25 December 2018. Retrieved 4 December 2017.\n",
    " Bini, Ola (2007). Practical JRuby on Rails Web 2.0 Projects: bringing Ruby on Rails to the Java platform. Berkeley: APress. p. 3. ISBN 978-1-59059-881-8.\n",
    " Lattner, Chris (3 June 2014). \"Chris Lattner's Homepage\". Chris Lattner. Archived from the original on 25 December 2018. Retrieved 3 June 2014. The Swift language is the product of tireless effort from a team of language experts, documentation gurus, compiler optimization ninjas, and an incredibly important internal dogfooding group who provided feedback to help refine and battle-test ideas. Of course, it also greatly benefited from the experiences hard-won by many other languages in the field, drawing ideas from Objective-C, Rust, Haskell, Ruby, Python, C#, CLU, and far too many others to list.\n",
    " Kuhlman, Dave. \"A Python Book: Beginning Python, Advanced Python, and Python Exercises\". Section 1.1. Archived from the original (PDF) on 23 June 2012.\n",
    " \"About Python\". Python Software Foundation. Archived from the original on 20 April 2012. Retrieved 24 April 2012., second section \"Fans of Python use the phrase \"batteries included\" to describe the standard library, which covers everything from asynchronous processing to zip files.\"\n",
    " \"PEP 206 – Python Advanced Library\". Python.org. Archived from the original on 5 May 2021. Retrieved 11 October 2021.\n",
    " Rossum, Guido Van (20 January 2009). \"The History of Python: A Brief Timeline of Python\". The History of Python. Archived from the original on 5 June 2020. Retrieved 5 March 2021.\n",
    " Peterson, Benjamin (20 April 2020). \"Python 2.7.18, the last release of Python 2\". Python Insider. Archived from the original on 26 April 2020. Retrieved 27 April 2020.\n",
    " \"Stack Overflow Developer Survey 2022\". Stack Overflow. Archived from the original on 27 June 2022. Retrieved 12 August 2022.\n",
    " \"The State of Developer Ecosystem in 2020 Infographic\". JetBrains: Developer Tools for Professionals and Teams. Archived from the original on 1 March 2021. Retrieved 5 March 2021.\n",
    " \"TIOBE Index\". TIOBE. Archived from the original on 25 February 2018. Retrieved 3 January 2023. The TIOBE Programming Community index is an indicator of the popularity of programming languages Updated as required.\n",
    " \"PYPL PopularitY of Programming Language index\". pypl.github.io. Archived from the original on 14 March 2017. Retrieved 26 March 2021.\n",
    " Venners, Bill (13 January 2003). \"The Making of Python\". Artima Developer. Artima. Archived from the original on 1 September 2016. Retrieved 22 March 2007.\n",
    " van Rossum, Guido (29 August 2000). \"SETL (was: Lukewarm about range literals)\". Python-Dev (Mailing list). Archived from the original on 14 July 2018. Retrieved 13 March 2011.\n",
    " van Rossum, Guido (20 January 2009). \"A Brief Timeline of Python\". The History of Python. Archived from the original on 5 June 2020. Retrieved 20 January 2009.\n",
    " Fairchild, Carlie (12 July 2018). \"Guido van Rossum Stepping Down from Role as Python's Benevolent Dictator For Life\". Linux Journal. Archived from the original on 13 July 2018. Retrieved 13 July 2018.\n",
    " \"PEP 8100\". Python Software Foundation. Archived from the original on 4 June 2020. Retrieved 4 May 2019.\n",
    " \"PEP 13 – Python Language Governance\". Python.org. Archived from the original on 27 May 2021. Retrieved 25 August 2021.\n",
    " Kuchling, A. M.; Zadka, Moshe (16 October 2000). \"What's New in Python 2.0\". Python Software Foundation. Archived from the original on 23 October 2012. Retrieved 11 February 2012.\n",
    " van Rossum, Guido (5 April 2006). \"PEP 3000 – Python 3000\". Python Enhancement Proposals. Python Software Foundation. Archived from the original on 3 March 2016. Retrieved 27 June 2009.\n",
    " \"2to3 – Automated Python 2 to 3 code translation\". docs.python.org. Archived from the original on 4 June 2020. Retrieved 2 February 2021.\n",
    " \"PEP 373 – Python 2.7 Release Schedule\". python.org. Archived from the original on 19 May 2020. Retrieved 9 January 2017.\n",
    " \"PEP 466 – Network Security Enhancements for Python 2.7.x\". python.org. Archived from the original on 4 June 2020. Retrieved 9 January 2017.\n",
    " \"Sunsetting Python 2\". Python.org. Archived from the original on 12 January 2020. Retrieved 22 September 2019.\n",
    " \"PEP 373 – Python 2.7 Release Schedule\". Python.org. Archived from the original on 13 January 2020. Retrieved 22 September 2019.\n",
    " \"Python Release Python 3.7.17\". Python.org. Archived from the original on 31 July 2023. Retrieved 18 August 2023.\n",
    " mattip (25 December 2023). \"PyPy v7.3.14 release\". PyPy. Archived from the original on 5 January 2024. Retrieved 5 January 2024.\n",
    " \"CVE-2021-3177\". Red Hat Customer Portal. Archived from the original on 6 March 2021. Retrieved 26 February 2021.\n",
    " \"CVE-2021-3177\". CVE. Archived from the original on 27 February 2021. Retrieved 26 February 2021.\n",
    " \"CVE-2021-23336\". CVE. Archived from the original on 24 February 2021. Retrieved 26 February 2021.\n",
    " Langa, Łukasz (24 March 2022). \"Python 3.10.4 and 3.9.12 are now available out of schedule\". Python Insider. Archived from the original on 21 April 2022. Retrieved 19 April 2022.\n",
    " Langa, Łukasz (16 March 2022). \"Python 3.10.3, 3.9.11, 3.8.13, and 3.7.13 are now available with security content\". Python Insider. Archived from the original on 17 April 2022. Retrieved 19 April 2022.\n",
    " Langa, Łukasz (17 May 2022). \"Python 3.9.13 is now available\". Python Insider. Archived from the original on 17 May 2022. Retrieved 21 May 2022.\n",
    " Langa, Łukasz (7 September 2022). \"Python releases 3.10.7, 3.9.14, 3.8.14, and 3.7.14 are now available\". Python Insider. Archived from the original on 13 September 2022. Retrieved 16 September 2022.\n",
    " \"CVE-2020-10735\". CVE. Archived from the original on 20 September 2022. Retrieved 16 September 2022.\n",
    " \"Built-in Types\".\n",
    " corbet (24 October 2022). \"Python 3.11 released [LWN.net]\". lwn.net. Retrieved 15 November 2022.\n",
    " \"What's New In Python 3.13\". Python documentation. Retrieved 30 April 2024.\n",
    " \"PEP 667 – Consistent views of namespaces | peps.python.org\". Python Enhancement Proposals (PEPs). Retrieved 7 October 2024.\n",
    " \"Status of Python versions\". Python Developer's Guide. Retrieved 7 October 2024.\n",
    " Wouters, Thomas (9 April 2024). \"Python Insider: Python 3.12.3 and 3.13.0a6 released\". Python Insider. Retrieved 29 April 2024.\n",
    " \"PEP 594 – Removing dead batteries from the standard library\". Python Enhancement Proposals. Python Softtware Foundation. 20 May 2019.\n",
    " Hugo (15 October 2024). \"Python Insider: Python 3.14.0 alpha 1 is now available\". Python Insider. Retrieved 16 October 2024.\n",
    " \"PEP 649 – Deferred Evaluation Of Annotations Using Descriptors | peps.python.org\". Python Enhancement Proposals (PEPs). Retrieved 16 October 2024.\n",
    " The Cain Gang Ltd. \"Python Metaclasses: Who? Why? When?\" (PDF). Archived from the original (PDF) on 30 May 2009. Retrieved 27 June 2009.\n",
    " \"3.3. Special method names\". The Python Language Reference. Python Software Foundation. Archived from the original on 15 December 2018. Retrieved 27 June 2009.\n",
    " \"PyDBC: method preconditions, method postconditions and class invariants for Python\". Archived from the original on 23 November 2019. Retrieved 24 September 2011.\n",
    " \"Contracts for Python\". Archived from the original on 15 June 2020. Retrieved 24 September 2011.\n",
    " \"PyDatalog\". Archived from the original on 13 June 2020. Retrieved 22 July 2012.\n",
    " \"Glue It All Together With Python\". Python.org. Retrieved 30 September 2024.\n",
    " \"Extending and Embedding the Python Interpreter: Reference Counts\". Docs.python.org. Archived from the original on 18 October 2012. Retrieved 5 June 2020. Since Python makes heavy use of malloc() and free(), it needs a strategy to avoid memory leaks as well as the use of freed memory. The chosen method is called reference counting.\n",
    " Hettinger, Raymond (30 January 2002). \"PEP 289 – Generator Expressions\". Python Enhancement Proposals. Python Software Foundation. Archived from the original on 14 June 2020. Retrieved 19 February 2012.\n",
    " \"6.5 itertools – Functions creating iterators for efficient looping\". Docs.python.org. Archived from the original on 14 June 2020. Retrieved 22 November 2016.\n",
    " Peters, Tim (19 August 2004). \"PEP 20 – The Zen of Python\". Python Enhancement Proposals. Python Software Foundation. Archived from the original on 26 December 2018. Retrieved 24 November 2008.\n",
    " Lutz, Mark (January 2022). \"Python Changes 2014+\". Learning Python. Archived from the original on 15 March 2024. Retrieved 25 February 2024.\n",
    " \"Confusion regarding a rule in The Zen of Python\". Python Help - Discussions on Python.org. 3 May 2022. Archived from the original on 25 February 2024. Retrieved 25 February 2024.\n",
    " Ambi, Chetan (4 July 2021). \"The Most Controversial Python Walrus Operator\". Python Simplified. Archived from the original on 27 August 2023. Retrieved 5 February 2024.\n",
    " Grifski, Jeremy (24 May 2020). \"The Controversy Behind The Walrus Operator in Python\". The Renegade Coder. Archived from the original on 28 December 2023. Retrieved 25 February 2024.\n",
    " Bader, Dan. \"Python String Formatting Best Practices\". Real Python. Archived from the original on 18 February 2024. Retrieved 25 February 2024.\n",
    " Martelli, Alex; Ravenscroft, Anna; Ascher, David (2005). Python Cookbook, 2nd Edition. O'Reilly Media. p. 230. ISBN 978-0-596-00797-3. Archived from the original on 23 February 2020. Retrieved 14 November 2015.\n",
    " \"Python Culture\". ebeab. 21 January 2014. Archived from the original on 30 January 2014.\n",
    " \"Transpiling Python to Julia using PyJL\" (PDF). Archived (PDF) from the original on 19 November 2023. Retrieved 20 September 2023. After manually modifying one line of code by specifying the necessary type information, we obtained a speedup of 52.6×, making the translated Julia code 19.5× faster than the original Python code.\n",
    " \"Why is it called Python?\". General Python FAQ. Docs.python.org. Archived from the original on 24 October 2012. Retrieved 3 January 2023.\n",
    " \"15 Ways Python Is a Powerful Force on the Web\". Archived from the original on 11 May 2019. Retrieved 3 July 2018.\n",
    " \"pprint – Data pretty printer – Python 3.11.0 documentation\". docs.python.org. Archived from the original on 22 January 2021. Retrieved 5 November 2022. stuff=['spam', 'eggs', 'lumberjack', 'knights', 'ni']\n",
    " \"Code Style – The Hitchhiker's Guide to Python\". docs.python-guide.org. Archived from the original on 27 January 2021. Retrieved 20 January 2021.\n",
    " \"Is Python a good language for beginning programmers?\". General Python FAQ. Python Software Foundation. Archived from the original on 24 October 2012. Retrieved 21 March 2007.\n",
    " \"Myths about indentation in Python\". Secnetix.de. Archived from the original on 18 February 2018. Retrieved 19 April 2011.\n",
    " Guttag, John V. (12 August 2016). Introduction to Computation and Programming Using Python: With Application to Understanding Data. MIT Press. ISBN 978-0-262-52962-4.\n",
    " \"PEP 8 – Style Guide for Python Code\". Python.org. Archived from the original on 17 April 2019. Retrieved 26 March 2019.\n",
    " \"8. Errors and Exceptions – Python 3.12.0a0 documentation\". docs.python.org. Archived from the original on 9 May 2022. Retrieved 9 May 2022.\n",
    " \"Highlights: Python 2.5\". Python.org. Archived from the original on 4 August 2019. Retrieved 20 March 2018.\n",
    " van Rossum, Guido (22 April 2009). \"Tail Recursion Elimination\". Neopythonic.blogspot.be. Archived from the original on 19 May 2018. Retrieved 3 December 2012.\n",
    " van Rossum, Guido (9 February 2006). \"Language Design Is Not Just Solving Puzzles\". Artima forums. Artima. Archived from the original on 17 January 2020. Retrieved 21 March 2007.\n",
    " van Rossum, Guido; Eby, Phillip J. (10 May 2005). \"PEP 342 – Coroutines via Enhanced Generators\". Python Enhancement Proposals. Python Software Foundation. Archived from the original on 29 May 2020. Retrieved 19 February 2012.\n",
    " \"PEP 380\". Python.org. Archived from the original on 4 June 2020. Retrieved 3 December 2012.\n",
    " \"division\". python.org. Archived from the original on 20 July 2006. Retrieved 30 July 2014.\n",
    " \"PEP 0465 – A dedicated infix operator for matrix multiplication\". python.org. Archived from the original on 4 June 2020. Retrieved 1 January 2016.\n",
    " \"Python 3.5.1 Release and Changelog\". python.org. Archived from the original on 14 May 2020. Retrieved 1 January 2016.\n",
    " \"What's New in Python 3.8\". Archived from the original on 8 June 2020. Retrieved 14 October 2019.\n",
    " van Rossum, Guido; Hettinger, Raymond (7 February 2003). \"PEP 308 – Conditional Expressions\". Python Enhancement Proposals. Python Software Foundation. Archived from the original on 13 March 2016. Retrieved 13 July 2011.\n",
    " \"4. Built-in Types – Python 3.6.3rc1 documentation\". python.org. Archived from the original on 14 June 2020. Retrieved 1 October 2017.\n",
    " \"5.3. Tuples and Sequences – Python 3.7.1rc2 documentation\". python.org. Archived from the original on 10 June 2020. Retrieved 17 October 2018.\n",
    " \"PEP 498 – Literal String Interpolation\". python.org. Archived from the original on 15 June 2020. Retrieved 8 March 2017.\n",
    " \"Why must 'self' be used explicitly in method definitions and calls?\". Design and History FAQ. Python Software Foundation. Archived from the original on 24 October 2012. Retrieved 19 February 2012.\n",
    " Sweigart, Al (2020). Beyond the Basic Stuff with Python: Best Practices for Writing Clean Code. No Starch Press. p. 322. ISBN 978-1-59327-966-0. Archived from the original on 13 August 2021. Retrieved 7 July 2021.\n",
    " \"The Python Language Reference, section 3.3. New-style and classic classes, for release 2.7.1\". Archived from the original on 26 October 2012. Retrieved 12 January 2011.\n",
    " \"PEP 484 – Type Hints | peps.python.org\". peps.python.org. Archived from the original on 27 November 2023. Retrieved 29 November 2023.\n",
    " \"typing — Support for type hints\". Python documentation. Python Software Foundation. Archived from the original on 21 February 2020. Retrieved 22 December 2023.\n",
    " \"mypy – Optional Static Typing for Python\". Archived from the original on 6 June 2020. Retrieved 28 January 2017.\n",
    " \"Introduction\". mypyc.readthedocs.io. Archived from the original on 22 December 2023. Retrieved 22 December 2023.\n",
    " \"15. Floating Point Arithmetic: Issues and Limitations – Python 3.8.3 documentation\". docs.python.org. Archived from the original on 6 June 2020. Retrieved 6 June 2020. Almost all machines today (November 2000) use IEEE-754 floating point arithmetic, and almost all platforms map Python floats to IEEE-754 \"double precision\".\n",
    " Zadka, Moshe; van Rossum, Guido (11 March 2001). \"PEP 237 – Unifying Long Integers and Integers\". Python Enhancement Proposals. Python Software Foundation. Archived from the original on 28 May 2020. Retrieved 24 September 2011.\n",
    " \"Built-in Types\". Archived from the original on 14 June 2020. Retrieved 3 October 2019.\n",
    " \"PEP 465 – A dedicated infix operator for matrix multiplication\". python.org. Archived from the original on 29 May 2020. Retrieved 3 July 2018.\n",
    " Zadka, Moshe; van Rossum, Guido (11 March 2001). \"PEP 238 – Changing the Division Operator\". Python Enhancement Proposals. Python Software Foundation. Archived from the original on 28 May 2020. Retrieved 23 October 2013.\n",
    " \"Why Python's Integer Division Floors\". 24 August 2010. Archived from the original on 5 June 2020. Retrieved 25 August 2010.\n",
    " \"round\", The Python standard library, release 3.2, §2: Built-in functions, archived from the original on 25 October 2012, retrieved 14 August 2011\n",
    " \"round\", The Python standard library, release 2.7, §2: Built-in functions, archived from the original on 27 October 2012, retrieved 14 August 2011\n",
    " Beazley, David M. (2009). Python Essential Reference (4th ed.). Addison-Wesley Professional. p. 66. ISBN 9780672329784.\n",
    " Kernighan, Brian W.; Ritchie, Dennis M. (1988). The C Programming Language (2nd ed.). p. 206.\n",
    " Batista, Facundo (17 October 2003). \"PEP 327 – Decimal Data Type\". Python Enhancement Proposals. Python Software Foundation. Archived from the original on 4 June 2020. Retrieved 24 November 2008.\n",
    " \"What's New in Python 2.6\". Python v2.6.9 documentation. 29 October 2013. Archived from the original on 23 December 2019. Retrieved 26 September 2015.\n",
    " \"10 Reasons Python Rocks for Research (And a Few Reasons it Doesn't) – Hoyt Koepke\". University of Washington Department of Statistics. Archived from the original on 31 May 2020. Retrieved 3 February 2019.\n",
    " Shell, Scott (17 June 2014). \"An introduction to Python for scientific computing\" (PDF). Archived (PDF) from the original on 4 February 2019. Retrieved 3 February 2019.\n",
    " Piotrowski, Przemyslaw (July 2006). \"Build a Rapid Web Development Environment for Python Server Pages and Oracle\". Oracle Technology Network. Oracle. Archived from the original on 2 April 2019. Retrieved 12 March 2012.\n",
    " Eby, Phillip J. (7 December 2003). \"PEP 333 – Python Web Server Gateway Interface v1.0\". Python Enhancement Proposals. Python Software Foundation. Archived from the original on 14 June 2020. Retrieved 19 February 2012.\n",
    " \"PyPI\". PyPI. 17 March 2024. Archived from the original on 17 March 2024.\n",
    " Enthought, Canopy. \"Canopy\". www.enthought.com. Archived from the original on 15 July 2017. Retrieved 20 August 2016.\n",
    " \"PEP 7 – Style Guide for C Code | peps.python.org\". peps.python.org. Archived from the original on 24 April 2022. Retrieved 28 April 2022.\n",
    " \"4. Building C and C++ Extensions – Python 3.9.2 documentation\". docs.python.org. Archived from the original on 3 March 2021. Retrieved 1 March 2021.\n",
    " van Rossum, Guido (5 June 2001). \"PEP 7 – Style Guide for C Code\". Python Enhancement Proposals. Python Software Foundation. Archived from the original on 1 June 2020. Retrieved 24 November 2008.\n",
    " \"CPython byte code\". Docs.python.org. Archived from the original on 5 June 2020. Retrieved 16 February 2016.\n",
    " \"Python 2.5 internals\" (PDF). Archived (PDF) from the original on 6 August 2012. Retrieved 19 April 2011.\n",
    " \"Changelog – Python 3.9.0 documentation\". docs.python.org. Archived from the original on 7 February 2021. Retrieved 8 February 2021.\n",
    " \"Download Python\". Python.org. Archived from the original on 8 December 2020. Retrieved 13 December 2020.\n",
    " \"history [vmspython]\". www.vmspython.org. Archived from the original on 2 December 2020. Retrieved 4 December 2020.\n",
    " \"An Interview with Guido van Rossum\". Oreilly.com. Archived from the original on 16 July 2014. Retrieved 24 November 2008.\n",
    " \"Download Python for Other Platforms\". Python.org. Archived from the original on 27 November 2020. Retrieved 4 December 2020.\n",
    " \"PyPy compatibility\". Pypy.org. Archived from the original on 6 June 2020. Retrieved 3 December 2012.\n",
    " Team, The PyPy (28 December 2019). \"Download and Install\". PyPy. Archived from the original on 8 January 2022. Retrieved 8 January 2022.\n",
    " \"speed comparison between CPython and Pypy\". Speed.pypy.org. Archived from the original on 10 May 2021. Retrieved 3 December 2012.\n",
    " \"Codon: Differences with Python\". Archived from the original on 25 May 2023. Retrieved 28 August 2023.\n",
    " Lawson, Loraine (14 March 2023). \"MIT-Created Compiler Speeds up Python Code\". The New Stack. Archived from the original on 6 April 2023. Retrieved 28 August 2023.\n",
    " \"Application-level Stackless features – PyPy 2.0.2 documentation\". Doc.pypy.org. Archived from the original on 4 June 2020. Retrieved 17 July 2013.\n",
    " \"Python-for-EV3\". LEGO Education. Archived from the original on 7 June 2020. Retrieved 17 April 2019.\n",
    " Yegulalp, Serdar (29 October 2020). \"Pyston returns from the dead to speed Python\". InfoWorld. Archived from the original on 27 January 2021. Retrieved 26 January 2021.\n",
    " \"cinder: Instagram's performance-oriented fork of CPython\". GitHub. Archived from the original on 4 May 2021. Retrieved 4 May 2021.\n",
    " Aroca, Rafael (7 August 2021). \"Snek Lang: feels like Python on Arduinos\". Yet Another Technology Blog. Archived from the original on 5 January 2024. Retrieved 4 January 2024.\n",
    " Aufranc (CNXSoft), Jean-Luc (16 January 2020). \"Snekboard Controls LEGO Power Functions with CircuitPython or Snek Programming Languages (Crowdfunding) – CNX Software\". CNX Software – Embedded Systems News. Archived from the original on 5 January 2024. Retrieved 4 January 2024.\n",
    " Kennedy (@mkennedy), Michael. \"Ready to find out if you're git famous?\". pythonbytes.fm. Archived from the original on 5 January 2024. Retrieved 4 January 2024.\n",
    " Packard, Keith (20 December 2022). \"The Snek Programming Language: A Python-inspired Embedded Computing Language\" (PDF). Archived (PDF) from the original on 4 January 2024. Retrieved 4 January 2024.\n",
    " \"Plans for optimizing Python\". Google Project Hosting. 15 December 2009. Archived from the original on 11 April 2016. Retrieved 24 September 2011.\n",
    " \"Python on the Nokia N900\". Stochastic Geometry. 29 April 2010. Archived from the original on 20 June 2019. Retrieved 9 July 2015.\n",
    " \"Brython\". brython.info. Archived from the original on 3 August 2018. Retrieved 21 January 2021.\n",
    " \"Transcrypt – Python in the browser\". transcrypt.org. Archived from the original on 19 August 2018. Retrieved 22 December 2020.\n",
    " \"Transcrypt: Anatomy of a Python to JavaScript Compiler\". InfoQ. Archived from the original on 5 December 2020. Retrieved 20 January 2021.\n",
    " \"Nuitka Home | Nuitka Home\". nuitka.net. Archived from the original on 30 May 2020. Retrieved 18 August 2017.\n",
    " Guelton, Serge; Brunet, Pierrick; Amini, Mehdi; Merlini, Adrien; Corbillon, Xavier; Raynaud, Alan (16 March 2015). \"Pythran: enabling static optimization of scientific Python programs\". Computational Science & Discovery. 8 (1). IOP Publishing: 014001. Bibcode:2015CS&D....8a4001G. doi:10.1088/1749-4680/8/1/014001. ISSN 1749-4699.\n",
    " \"The Python → 11l → C++ transpiler\". Archived from the original on 24 September 2022. Retrieved 17 July 2022.\n",
    " \"google/grumpy\". 10 April 2020. Archived from the original on 15 April 2020. Retrieved 25 March 2020 – via GitHub.\n",
    " \"Projects\". opensource.google. Archived from the original on 24 April 2020. Retrieved 25 March 2020.\n",
    " Francisco, Thomas Claburn in San. \"Google's Grumpy code makes Python Go\". www.theregister.com. Archived from the original on 7 March 2021. Retrieved 20 January 2021.\n",
    " \"GitHub – IronLanguages/ironpython3: Implementation of Python 3.x for .NET Framework that is built on top of the Dynamic Language Runtime\". GitHub. Archived from the original on 28 September 2021.\n",
    " \"IronPython.net /\". ironpython.net. Archived from the original on 17 April 2021.\n",
    " \"Jython FAQ\". www.jython.org. Archived from the original on 22 April 2021. Retrieved 22 April 2021.\n",
    " Murri, Riccardo (2013). Performance of Python runtimes on a non-numeric scientific code. European Conference on Python in Science (EuroSciPy). arXiv:1404.6388. Bibcode:2014arXiv1404.6388M.\n",
    " \"The Computer Language Benchmarks Game\". Archived from the original on 14 June 2020. Retrieved 30 April 2020.\n",
    " Warsaw, Barry; Hylton, Jeremy; Goodger, David (13 June 2000). \"PEP 1 – PEP Purpose and Guidelines\". Python Enhancement Proposals. Python Software Foundation. Archived from the original on 6 June 2020. Retrieved 19 April 2011.\n",
    " \"PEP 8 – Style Guide for Python Code\". Python.org. Archived from the original on 17 April 2019. Retrieved 26 March 2019.\n",
    " Cannon, Brett. \"Guido, Some Guys, and a Mailing List: How Python is Developed\". python.org. Python Software Foundation. Archived from the original on 1 June 2009. Retrieved 27 June 2009.\n",
    " \"Moving Python's bugs to GitHub [LWN.net]\". Archived from the original on 2 October 2022. Retrieved 2 October 2022.\n",
    " \"Python Developer's Guide – Python Developer's Guide\". devguide.python.org. Archived from the original on 9 November 2020. Retrieved 17 December 2019.\n",
    " Hughes, Owen (24 May 2021). \"Programming languages: Why Python 4.0 might never arrive, according to its creator\". TechRepublic. Archived from the original on 14 July 2022. Retrieved 16 May 2022.\n",
    " \"PEP 602 – Annual Release Cycle for Python\". Python.org. Archived from the original on 14 June 2020. Retrieved 6 November 2019.\n",
    " \"Changing the Python release cadence [LWN.net]\". lwn.net. Archived from the original on 6 November 2019. Retrieved 6 November 2019.\n",
    " Norwitz, Neal (8 April 2002). \"[Python-Dev] Release Schedules (was Stability & change)\". Archived from the original on 15 December 2018. Retrieved 27 June 2009.\n",
    " Aahz; Baxter, Anthony (15 March 2001). \"PEP 6 – Bug Fix Releases\". Python Enhancement Proposals. Python Software Foundation. Archived from the original on 5 June 2020. Retrieved 27 June 2009.\n",
    " \"Python Buildbot\". Python Developer's Guide. Python Software Foundation. Archived from the original on 5 June 2020. Retrieved 24 September 2011.\n",
    " \"1. Extending Python with C or C++ – Python 3.9.1 documentation\". docs.python.org. Archived from the original on 23 June 2020. Retrieved 14 February 2021.\n",
    " \"PEP 623 – Remove wstr from Unicode\". Python.org. Archived from the original on 5 March 2021. Retrieved 14 February 2021.\n",
    " \"PEP 634 – Structural Pattern Matching: Specification\". Python.org. Archived from the original on 6 May 2021. Retrieved 14 February 2021.\n",
    " \"Documentation Tools\". Python.org. Archived from the original on 11 November 2020. Retrieved 22 March 2021.\n",
    " \"Whetting Your Appetite\". The Python Tutorial. Python Software Foundation. Archived from the original on 26 October 2012. Retrieved 20 February 2012.\n",
    " \"In Python, should I use else after a return in an if block?\". Stack Overflow. Stack Exchange. 17 February 2011. Archived from the original on 20 June 2019. Retrieved 6 May 2011.\n",
    " Lutz, Mark (2009). Learning Python: Powerful Object-Oriented Programming. O'Reilly Media, Inc. p. 17. ISBN 9781449379322. Archived from the original on 17 July 2017. Retrieved 9 May 2017.\n",
    " Fehily, Chris (2002). Python. Peachpit Press. p. xv. ISBN 9780201748840. Archived from the original on 17 July 2017. Retrieved 9 May 2017.\n",
    " Lubanovic, Bill (2014). Introducing Python. Sebastopol, CA : O'Reilly Media. p. 305. ISBN 978-1-4493-5936-2. Retrieved 31 July 2023.\n",
    " Blake, Troy (18 January 2021). \"TIOBE Index for January 2021\". Technology News and Information by SeniorDBA. Archived from the original on 21 March 2021. Retrieved 26 February 2021.\n",
    " \"Quotes about Python\". Python Software Foundation. Archived from the original on 3 June 2020. Retrieved 8 January 2012.\n",
    " \"Organizations Using Python\". Python Software Foundation. Archived from the original on 21 August 2018. Retrieved 15 January 2009.\n",
    " \"Python : the holy grail of programming\". CERN Bulletin (31/2006). CERN Publications. 31 July 2006. Archived from the original on 15 January 2013. Retrieved 11 February 2012.\n",
    " Shafer, Daniel G. (17 January 2003). \"Python Streamlines Space Shuttle Mission Design\". Python Software Foundation. Archived from the original on 5 June 2020. Retrieved 24 November 2008.\n",
    " \"Tornado: Facebook's Real-Time Web Framework for Python – Facebook for Developers\". Facebook for Developers. Archived from the original on 19 February 2019. Retrieved 19 June 2018.\n",
    " \"What Powers Instagram: Hundreds of Instances, Dozens of Technologies\". Instagram Engineering. 11 December 2016. Archived from the original on 15 June 2020. Retrieved 27 May 2019.\n",
    " \"How we use Python at Spotify\". Spotify Labs. 20 March 2013. Archived from the original on 10 June 2020. Retrieved 25 July 2018.\n",
    " Fortenberry, Tim (17 January 2003). \"Industrial Light & Magic Runs on Python\". Python Software Foundation. Archived from the original on 6 June 2020. Retrieved 11 February 2012.\n",
    " Taft, Darryl K. (5 March 2007). \"Python Slithers into Systems\". eWeek.com. Ziff Davis Holdings. Archived from the original on 13 August 2021. Retrieved 24 September 2011.\n",
    " GitHub – reddit-archive/reddit: historical code from reddit.com., The Reddit Archives, archived from the original on 1 June 2020, retrieved 20 March 2019\n",
    " \"Real time communication at scale with Elixir at Discord\". 8 October 2020.\n",
    " \"What Programming Language is Baidu Built In?\". 5 July 2018.\n",
    " \"Usage statistics and market share of Python for websites\". 2012. Archived from the original on 13 August 2021. Retrieved 18 December 2012.\n",
    " Oliphant, Travis (2007). \"Python for Scientific Computing\". Computing in Science and Engineering. 9 (3): 10–20. Bibcode:2007CSE.....9c..10O. CiteSeerX 10.1.1.474.6460. doi:10.1109/MCSE.2007.58. ISSN 1521-9615. S2CID 206457124. Archived from the original on 15 June 2020. Retrieved 10 April 2015.\n",
    " Millman, K. Jarrod; Aivazis, Michael (2011). \"Python for Scientists and Engineers\". Computing in Science and Engineering. 13 (2): 9–12. Bibcode:2011CSE....13b...9M. doi:10.1109/MCSE.2011.36. Archived from the original on 19 February 2019. Retrieved 7 July 2014.\n",
    " Science education with SageMath, Innovative Computing in Science Education, archived from the original on 15 June 2020, retrieved 22 April 2019\n",
    " \"OpenCV: OpenCV-Python Tutorials\". docs.opencv.org. Archived from the original on 23 September 2020. Retrieved 14 September 2020.\n",
    " Dean, Jeff; Monga, Rajat; et al. (9 November 2015). \"TensorFlow: Large-scale machine learning on heterogeneous systems\" (PDF). TensorFlow.org. Google Research. Archived (PDF) from the original on 20 November 2015. Retrieved 10 November 2015.\n",
    " Piatetsky, Gregory. \"Python eats away at R: Top Software for Analytics, Data Science, Machine Learning in 2018: Trends and Analysis\". KDnuggets. Archived from the original on 15 November 2019. Retrieved 30 May 2018.\n",
    " \"Who is using scikit-learn? – scikit-learn 0.20.1 documentation\". scikit-learn.org. Archived from the original on 6 May 2020. Retrieved 30 November 2018.\n",
    " Jouppi, Norm. \"Google supercharges machine learning tasks with TPU custom chip\". Google Cloud Platform Blog. Archived from the original on 18 May 2016. Retrieved 19 May 2016.\n",
    " De Raedt, Luc; Kimmig, Angelika (2015). \"Probabilistic (logic) programming concepts\". Machine Learning. 100 (1): 5–47. doi:10.1007/s10994-015-5494-z. S2CID 3166992.\n",
    " \"Natural Language Toolkit – NLTK 3.5b1 documentation\". www.nltk.org. Archived from the original on 13 June 2020. Retrieved 10 April 2020.\n",
    " Andersen, C. and Swift, T., 2023. The Janus System: a bridge to new prolog applications. In Prolog: The Next 50 Years (pp. 93–104). Cham: Springer Nature Switzerland.\n",
    " \"SWI-Prolog Python interface\". Archived from the original on 15 March 2024. Retrieved 15 March 2024.\n",
    " Tarau, P., 2023. Reflections on automation, learnability and expressiveness in logic-based programming languages. In Prolog: The Next 50 Years (pp. 359–371). Cham: Springer Nature Switzerland.\n",
    " \"Tkinter — Python interface to TCL/Tk\". Archived from the original on 18 October 2012. Retrieved 9 June 2023.\n",
    " \"Python Tkinter Tutorial\". 3 June 2020. Archived from the original on 9 June 2023. Retrieved 9 June 2023.\n",
    " \"Installers for GIMP for Windows – Frequently Asked Questions\". 26 July 2013. Archived from the original on 17 July 2013. Retrieved 26 July 2013.\n",
    " \"jasc psp9components\". Archived from the original on 19 March 2008.\n",
    " \"About getting started with writing geoprocessing scripts\". ArcGIS Desktop Help 9.2. Environmental Systems Research Institute. 17 November 2006. Archived from the original on 5 June 2020. Retrieved 11 February 2012.\n",
    " CCP porkbelly (24 August 2010). \"Stackless Python 2.7\". EVE Community Dev Blogs. CCP Games. Archived from the original on 11 January 2014. Retrieved 11 January 2014. As you may know, EVE has at its core the programming language known as Stackless Python.\n",
    " Caudill, Barry (20 September 2005). \"Modding Sid Meier's Civilization IV\". Sid Meier's Civilization IV Developer Blog. Firaxis Games. Archived from the original on 2 December 2010. we created three levels of tools ... The next level offers Python and XML support, letting modders with more experience manipulate the game world and everything in it.\n",
    " \"Python Language Guide (v1.0)\". Google Documents List Data API v1.0. Archived from the original on 15 July 2010.\n",
    " \"Python Setup and Usage\". Python Software Foundation. Archived from the original on 17 June 2020. Retrieved 10 January 2020.\n",
    " \"Immunity: Knowing You're Secure\". Archived from the original on 16 February 2009.\n",
    " \"Core Security\". Core Security. Archived from the original on 9 June 2020. Retrieved 10 April 2020.\n",
    " \"What is Sugar?\". Sugar Labs. Archived from the original on 9 January 2009. Retrieved 11 February 2012.\n",
    " \"4.0 New Features and Fixes\". LibreOffice.org. The Document Foundation. 2013. Archived from the original on 9 February 2014. Retrieved 25 February 2013.\n",
    " \"Gotchas for Python Users\". boo.codehaus.org. Codehaus Foundation. Archived from the original on 11 December 2008. Retrieved 24 November 2008.\n",
    " Esterbrook, Charles. \"Acknowledgements\". cobra-language.com. Cobra Language. Archived from the original on 8 February 2008. Retrieved 7 April 2010.\n",
    " \"Proposals: iterators and generators [ES4 Wiki]\". wiki.ecmascript.org. Archived from the original on 20 October 2007. Retrieved 24 November 2008.\n",
    " \"Frequently asked questions\". Godot Engine documentation. Archived from the original on 28 April 2021. Retrieved 10 May 2021.\n",
    " Kincaid, Jason (10 November 2009). \"Google's Go: A New Programming Language That's Python Meets C++\". TechCrunch. Archived from the original on 18 January 2010. Retrieved 29 January 2010.\n",
    " Strachan, James (29 August 2003). \"Groovy – the birth of a new dynamic language for the Java platform\". Archived from the original on 5 April 2007. Retrieved 11 June 2007.\n",
    " \"Modular Docs – Why Mojo\". docs.modular.com. Archived from the original on 5 May 2023. Retrieved 5 May 2023. Mojo as a member of the Python family [..] Embracing Python massively simplifies our design efforts, because most of the syntax is already specified. [..] we decided that the right long-term goal for Mojo is to provide a superset of Python (i.e. be compatible with existing programs) and to embrace the CPython immediately for long-tail ecosystem enablement. To a Python programmer, we expect and hope that Mojo will be immediately familiar, while also providing new tools for developing systems-level code that enable you to do things that Python falls back to C and C++ for.\n",
    " Spencer, Michael (4 May 2023). \"What is Mojo Programming Language?\". datasciencelearningcenter.substack.com. Archived from the original on 5 May 2023. Retrieved 5 May 2023.\n",
    " Yegulalp, Serdar (16 January 2017). \"Nim language draws from best of Python, Rust, Go, and Lisp\". InfoWorld. Archived from the original on 13 October 2018. Retrieved 7 June 2020. Nim's syntax is strongly reminiscent of Python's, as it uses indented code blocks and some of the same syntax (such as the way if/elif/then/else blocks are constructed).\n",
    " \"An Interview with the Creator of Ruby\". Linuxdevcenter.com. Archived from the original on 28 April 2018. Retrieved 3 December 2012.\n",
    " Lattner, Chris (3 June 2014). \"Chris Lattner's Homepage\". Chris Lattner. Archived from the original on 22 December 2015. Retrieved 3 June 2014. I started work on the Swift Programming Language in July of 2010. I implemented much of the basic language structure, with only a few people knowing of its existence. A few other (amazing) people started contributing in earnest late in 2011, and it became a major focus for the Apple Developer Tools group in July 2013 [...] drawing ideas from Objective-C, Rust, Haskell, Ruby, Python, C#, CLU, and far too many others to list.\n",
    " Jalan, Nishant Aanjaney (10 November 2022). \"Programming in Kotlin\". CodeX. Retrieved 29 April 2024.\n",
    " Kupries, Andreas; Fellows, Donal K. (14 September 2000). \"TIP #3: TIP Format\". tcl.tk. Tcl Developer Xchange. Archived from the original on 13 July 2017. Retrieved 24 November 2008.\n",
    " Gustafsson, Per; Niskanen, Raimo (29 January 2007). \"EEP 1: EEP Purpose and Guidelines\". erlang.org. Archived from the original on 15 June 2020. Retrieved 19 April 2011.\n",
    " \"Swift Evolution Process\". Swift Programming Language Evolution repository on GitHub. 18 February 2020. Archived from the original on 27 April 2020. Retrieved 27 April 2020.\n",
    "Sources\n",
    "\"Python for Artificial Intelligence\". Python Wiki. 19 July 2012. Archived from the original on 1 November 2012. Retrieved 3 December 2012.\n",
    "Paine, Jocelyn, ed. (August 2005). \"AI in Python\". AI Expert Newsletter. Amzi!. Archived from the original on 26 March 2012. Retrieved 11 February 2012.\n",
    "\"PyAIML 0.8.5 : Python Package Index\". Pypi.python.org. Retrieved 17 July 2013.\n",
    "Russell, Stuart J. & Norvig, Peter (2009). Artificial Intelligence: A Modern Approach (3rd ed.). Upper Saddle River, NJ: Prentice Hall. ISBN 978-0-13-604259-4.\n",
    "Further reading\n",
    "Downey, Allen B. (May 2012). Think Python: How to Think Like a Computer Scientist (version 1.6.6 ed.). Cambridge University Press. ISBN 978-0-521-72596-5.\n",
    "Hamilton, Naomi (5 August 2008). \"The A-Z of Programming Languages: Python\". Computerworld. Archived from the original on 29 December 2008. Retrieved 31 March 2010.\n",
    "Lutz, Mark (2013). Learning Python (5th ed.). O'Reilly Media. ISBN 978-0-596-15806-4.\n",
    "Summerfield, Mark (2009). Programming in Python 3 (2nd ed.). Addison-Wesley Professional. ISBN 978-0-321-68056-3.\n",
    "Ramalho, Luciano (May 2022). Fluent Python. O'Reilly Media. ISBN 978-1-4920-5632-4.\n",
    "External links\n",
    "Python\n",
    "at Wikipedia's sister projects\n",
    "Media from Commons\n",
    "Quotations from Wikiquote\n",
    "Textbooks from Wikibooks\n",
    "Resources from Wikiversity\n",
    "Data from Wikidata\n",
    "Official website Edit this at Wikidata\n",
    "vte\n",
    "Python\n",
    "Implementations\t\n",
    "CircuitPythonCLPythonCPythonCythonMicroPythonNumbaIronPythonJythonPsycoPyPyPython for S60Shed SkinStackless PythonUnladen Swallowmore...\n",
    "\n",
    "IDEs\t\n",
    "ericIDLENinja-IDEPyCharmPyDevSpydermore...\n",
    "Topics\t\n",
    "WSGIASGI\n",
    "Designer\t\n",
    "Guido van Rossum\n",
    "Software (list)Python Software FoundationPython Conference (PyCon)\n",
    "vte\n",
    "Programming languages\n",
    "ComparisonTimelineHistory\n",
    "AdaALGOL SimulaAPLAssemblyBASIC Visual Basic classic.NETCC++C#COBOLErlangForthFortranGoHaskellJavaJavaScriptJuliaKotlinLispLuaMATLABMLPascal Object PascalPerlPHPPrologPythonRRubyRustSQLScratchShellSmalltalkSwiftmore...\n",
    " Lists: AlphabeticalCategoricalGenerationalNon-English-based Category\n",
    "vte\n",
    "Python web frameworks\n",
    "vte\n",
    "Differentiable computing\n",
    "vte\n",
    "Free and open-source software\n",
    "vte\n",
    "Statistical software\n",
    "vte\n",
    "Numerical-analysis software\n",
    "Authority control databases Edit this at Wikidata\n",
    "Categories: Python (programming language)Class-based programming languagesNotebook interfaceComputer science in the NetherlandsConcurrent programming languagesCross-platform free softwareCross-platform softwareDutch inventionsDynamically typed programming languagesEducational programming languagesHigh-level programming languagesInformation technology in the NetherlandsMulti-paradigm programming languagesObject-oriented programming languagesPattern matching programming languagesProgramming languagesProgramming languages created in 1991Scripting languagesText-oriented programming languages\n",
    "This page was last edited on 23 October 2024, at 20:41 (UTC).\n",
    "Text is available under the Creative Commons Attribution-ShareAlike 4.0 License; additional terms may apply. By using this site, you agree to the Terms of Use and Privacy Policy. Wikipedia® is a registered trademark of the Wikimedia Foundation, Inc., a non-profit organization.\n",
    "Privacy policyAbout WikipediaDisclaimersContact WikipediaCode of ConductDevelopersStatisticsCookie statementMobile view\n",
    "Wikimedia FoundationPowered by MediaWiki\n",
    "'''"
   ]
  },
  {
   "cell_type": "code",
   "execution_count": 130,
   "id": "d4f020f8-404b-4a62-84a9-1ad7ab45d565",
   "metadata": {},
   "outputs": [
    {
     "data": {
      "text/plain": [
       "661"
      ]
     },
     "execution_count": 130,
     "metadata": {},
     "output_type": "execute_result"
    }
   ],
   "source": [
    "pythonLowercase=pythonWiki.count(\"python\")\n",
    "pythonUppercase=pythonWiki.count(\"Python\")\n",
    "pythonLowercase+pythonUppercase"
   ]
  },
  {
   "cell_type": "markdown",
   "id": "b7dea2fa-a59f-4a36-bf83-7d2a7c30f64b",
   "metadata": {},
   "source": [
    "# Session 7"
   ]
  },
  {
   "cell_type": "markdown",
   "id": "b5069c3a-1b3f-4b95-9021-fbea2e364739",
   "metadata": {},
   "source": [
    "# conditions"
   ]
  },
  {
   "cell_type": "code",
   "execution_count": 134,
   "id": "12f4bfbf-613c-4805-aae9-8b6e9b3b77a4",
   "metadata": {},
   "outputs": [
    {
     "name": "stdout",
     "output_type": "stream",
     "text": [
      "salam\n"
     ]
    }
   ],
   "source": [
    "if True : print(\"salam\")"
   ]
  },
  {
   "cell_type": "code",
   "execution_count": 136,
   "id": "c36f47ca-8ca7-4de4-b453-4eb232fa79bc",
   "metadata": {},
   "outputs": [],
   "source": [
    "if False : \n",
    "    print(\"salam\")"
   ]
  },
  {
   "cell_type": "code",
   "execution_count": 138,
   "id": "6cf83812-be14-4ba0-8f8d-78bb4d77c52c",
   "metadata": {},
   "outputs": [
    {
     "name": "stdout",
     "output_type": "stream",
     "text": [
      "salam\n"
     ]
    }
   ],
   "source": [
    "if 3: \n",
    "    print(\"salam\")"
   ]
  },
  {
   "cell_type": "code",
   "execution_count": 140,
   "id": "4d5bebbb-b51a-48f5-b73f-e7e918856ce0",
   "metadata": {},
   "outputs": [
    {
     "name": "stdout",
     "output_type": "stream",
     "text": [
      "salam\n"
     ]
    }
   ],
   "source": [
    "if 3: \n",
    "    print(\"salam\")"
   ]
  },
  {
   "cell_type": "code",
   "execution_count": 142,
   "id": "e2ffe84a-8e79-42fe-9c0b-34d304f70e1b",
   "metadata": {},
   "outputs": [
    {
     "name": "stdout",
     "output_type": "stream",
     "text": [
      "salam\n"
     ]
    }
   ],
   "source": [
    "if 3: \n",
    "    print(\"salam\")"
   ]
  },
  {
   "cell_type": "code",
   "execution_count": 144,
   "id": "c77ed0dc-d1f4-4f21-b2db-14733cffff8e",
   "metadata": {},
   "outputs": [],
   "source": [
    "if \"\" : \n",
    "    print(\"salam\")"
   ]
  },
  {
   "cell_type": "code",
   "execution_count": 146,
   "id": "432a7aee-5dfd-4134-b7d7-269dc93d680e",
   "metadata": {},
   "outputs": [
    {
     "name": "stdout",
     "output_type": "stream",
     "text": [
      "salam\n"
     ]
    }
   ],
   "source": [
    "if \"Amir\" : \n",
    "    print(\"salam\")"
   ]
  },
  {
   "cell_type": "markdown",
   "id": "4f345212-0e5e-4f96-a1fe-4adf39178eb1",
   "metadata": {},
   "source": [
    "## ارزش تمام آن هایی که salam را اجرا کرد true بود و برای همین print انجام شد . 0 ,False , \"\" ارزشش False است"
   ]
  },
  {
   "cell_type": "markdown",
   "id": "cba9fdcf-b573-456d-b68b-4d31d7fec4d6",
   "metadata": {},
   "source": [
    "## yek tab indent ast va baes mshavad k neveshteye zir if joze if shavad"
   ]
  },
  {
   "cell_type": "code",
   "execution_count": 151,
   "id": "9bd263fb-7788-44a5-83a4-ef145e05e29f",
   "metadata": {},
   "outputs": [
    {
     "ename": "IndentationError",
     "evalue": "unindent does not match any outer indentation level (<string>, line 3)",
     "output_type": "error",
     "traceback": [
      "\u001b[1;36m  File \u001b[1;32m<string>:3\u001b[1;36m\u001b[0m\n\u001b[1;33m    print(\"Hello\")\u001b[0m\n\u001b[1;37m                  ^\u001b[0m\n\u001b[1;31mIndentationError\u001b[0m\u001b[1;31m:\u001b[0m unindent does not match any outer indentation level\n"
     ]
    }
   ],
   "source": [
    "if \"\": \n",
    "        print(\"salam\")\n",
    "    print(\"Hello\")"
   ]
  },
  {
   "cell_type": "code",
   "execution_count": 153,
   "id": "07e1c1e1-0d89-41db-a848-75ff81a4da6a",
   "metadata": {},
   "outputs": [],
   "source": [
    "if \"\": \n",
    "        print(\"salam\")\n",
    "        print(\"Hello\")"
   ]
  },
  {
   "cell_type": "code",
   "execution_count": 155,
   "id": "38be7df4-dc5d-4c54-9c9f-632dae74bb30",
   "metadata": {},
   "outputs": [
    {
     "name": "stdout",
     "output_type": "stream",
     "text": [
      "اسم من طولانی است\n"
     ]
    }
   ],
   "source": [
    "myname = \"Zahra\"\n",
    "if len(myname) >= 5:\n",
    "    print(\"اسم من طولانی است\")"
   ]
  },
  {
   "cell_type": "code",
   "execution_count": 157,
   "id": "573e6203-5d94-4667-b348-dd3a99edb582",
   "metadata": {},
   "outputs": [
    {
     "name": "stdout",
     "output_type": "stream",
     "text": [
      "اسم او کوتاه است\n"
     ]
    }
   ],
   "source": [
    "myfriendname= \"Tima\"\n",
    "if len(myfriendname)>=5:\n",
    "    print(\"اسم او طولانی است\")\n",
    "else:\n",
    "    print(\"اسم او کوتاه است\")"
   ]
  },
  {
   "cell_type": "code",
   "execution_count": 159,
   "id": "789f82f8-2bea-484c-a088-ca172e7f8301",
   "metadata": {},
   "outputs": [],
   "source": [
    "inputname = \"amirali\""
   ]
  },
  {
   "cell_type": "code",
   "execution_count": 161,
   "id": "5c761454-df54-46f8-a010-8d285757db67",
   "metadata": {},
   "outputs": [
    {
     "name": "stdout",
     "output_type": "stream",
     "text": [
      "طولانی\n"
     ]
    }
   ],
   "source": [
    "if len(inputname)>5:\n",
    "    print(\"طولانی\")\n",
    "elif len(inputname)>3:\n",
    "    print (\"متوسط\")\n",
    "else: \n",
    "    print(\"اسم من کوتاه است\")"
   ]
  },
  {
   "cell_type": "code",
   "execution_count": 163,
   "id": "68c1d3f9-d9cb-45eb-97e0-9d3279f7e5c1",
   "metadata": {},
   "outputs": [],
   "source": [
    "inputname = \"amir\""
   ]
  },
  {
   "cell_type": "code",
   "execution_count": 151,
   "id": "48e958fa-ee28-414d-8b24-907b8c6758fe",
   "metadata": {},
   "outputs": [
    {
     "name": "stdout",
     "output_type": "stream",
     "text": [
      "متوسط\n"
     ]
    }
   ],
   "source": [
    "if len(inputname)>5:\n",
    "    print(\"طولانی\")\n",
    "elif len(inputname)>3:\n",
    "    print (\"متوسط\")\n",
    "else: \n",
    "    print(\"اسم من کوتاه است\")"
   ]
  },
  {
   "cell_type": "code",
   "execution_count": 165,
   "id": "71054c1f-b4a9-4ca5-92fe-41b522d1c4df",
   "metadata": {},
   "outputs": [],
   "source": [
    "inputname = \"ava\""
   ]
  },
  {
   "cell_type": "code",
   "execution_count": 167,
   "id": "453de07f-b710-43d7-9829-57e7efbf137e",
   "metadata": {},
   "outputs": [
    {
     "name": "stdout",
     "output_type": "stream",
     "text": [
      "اسم من کوتاه است\n"
     ]
    }
   ],
   "source": [
    "if len(inputname)>5:\n",
    "    print(\"طولانی\")\n",
    "elif len(inputname)>3:\n",
    "    print (\"متوسط\")\n",
    "else: \n",
    "    print(\"اسم من کوتاه است\")"
   ]
  },
  {
   "cell_type": "code",
   "execution_count": 169,
   "id": "89dfadca-f5ae-4d1f-801d-8700cba5cf81",
   "metadata": {},
   "outputs": [],
   "source": [
    "inputAge = 22"
   ]
  },
  {
   "cell_type": "code",
   "execution_count": 171,
   "id": "89b44064-4999-456f-9f7b-c0de1d3e983b",
   "metadata": {},
   "outputs": [
    {
     "name": "stdout",
     "output_type": "stream",
     "text": [
      "zoj balaye 20\n"
     ]
    }
   ],
   "source": [
    "if inputAge > 20:\n",
    "    if inputAge % 2 :\n",
    "        print(\"fard balaye 20\")\n",
    "    else:\n",
    "        print(\"zoj balaye 20\") \n",
    "else:\n",
    "    if inputAge % 2 :\n",
    "        print(\"Fard zire 20\")\n",
    "    else:\n",
    "        print(\"Zoj zire 20\")\n"
   ]
  },
  {
   "cell_type": "markdown",
   "id": "e6aa9f36-82c5-4181-84b9-c82f01eecd33",
   "metadata": {},
   "source": [
    "# Halghe:"
   ]
  },
  {
   "cell_type": "markdown",
   "id": "33ebc6ac-265a-4144-a9ef-fa8da16e836a",
   "metadata": {},
   "source": [
    "# While Loop"
   ]
  },
  {
   "cell_type": "code",
   "execution_count": 175,
   "id": "07e5919f-1f43-4019-a78f-850946982186",
   "metadata": {},
   "outputs": [
    {
     "name": "stdout",
     "output_type": "stream",
     "text": [
      "3\n",
      "2\n",
      "1\n"
     ]
    }
   ],
   "source": [
    "tempInt = 3\n",
    "while tempInt > 0:\n",
    "    print(tempInt)\n",
    "    tempInt -= 1  #tempInt=tempInt-1"
   ]
  },
  {
   "cell_type": "markdown",
   "id": "775112aa-cf11-4a44-9b56-efcc278ddfd1",
   "metadata": {},
   "source": [
    "# Fibonanci"
   ]
  },
  {
   "cell_type": "code",
   "execution_count": 178,
   "id": "d8fc2f65-0be2-4ae3-b406-3bbdf2dd68b5",
   "metadata": {},
   "outputs": [
    {
     "name": "stdout",
     "output_type": "stream",
     "text": [
      "0\n",
      "1\n",
      "1\n",
      "2\n",
      "3\n",
      "5\n",
      "8\n",
      "13\n",
      "21\n",
      "34\n",
      "55\n",
      "89\n"
     ]
    }
   ],
   "source": [
    "a = 0\n",
    "b = 1\n",
    "while a < 100:\n",
    "    print(a)\n",
    "    a, b = b, a + b\n"
   ]
  },
  {
   "cell_type": "code",
   "execution_count": 241,
   "id": "f3700b42-4752-46f1-85a5-dbfdd842ff42",
   "metadata": {},
   "outputs": [
    {
     "name": "stdout",
     "output_type": "stream",
     "text": [
      "6\n",
      "5\n",
      "4\n",
      "3\n"
     ]
    }
   ],
   "source": [
    "tempInt = 6\n",
    "while tempInt  > 0:\n",
    "    print(tempInt)\n",
    "    tempInt -= 1 # tempInt = tempInt - 1\n",
    "    if tempInt < 3:\n",
    "        break"
   ]
  },
  {
   "cell_type": "markdown",
   "id": "d0e48733-7b43-4624-a768-2750dbb031bc",
   "metadata": {},
   "source": [
    "# Session 8"
   ]
  },
  {
   "cell_type": "markdown",
   "id": "88d9fce9-d8f8-4301-8626-1c04064e0daf",
   "metadata": {},
   "source": [
    "## Q. check p is prime or not"
   ]
  },
  {
   "cell_type": "code",
   "execution_count": 245,
   "id": "527d97be-3ab5-471e-8a4a-5366b686b097",
   "metadata": {},
   "outputs": [
    {
     "name": "stdout",
     "output_type": "stream",
     "text": [
      "is prime\n"
     ]
    }
   ],
   "source": [
    "p=7\n",
    "tempP = p-1\n",
    "mark = True\n",
    "while tempP >  2:\n",
    "    if p % tempP==0:\n",
    "        mark = False\n",
    "    tempP -=1\n",
    "if mark:\n",
    "    print(\"is prime\")\n",
    "else:\n",
    "    print(\"is not prime\")"
   ]
  },
  {
   "cell_type": "code",
   "execution_count": 239,
   "id": "bfc91842-9b46-43bc-b8d3-134e99bff25e",
   "metadata": {},
   "outputs": [
    {
     "name": "stdout",
     "output_type": "stream",
     "text": [
      "is prime\n"
     ]
    }
   ],
   "source": [
    "p=19\n",
    "tempP = 2\n",
    "mark = True\n",
    "while tempP <  p:\n",
    "    if p % tempP==0:\n",
    "        mark = False\n",
    "        break\n",
    "    tempP += 1\n"
   ]
  },
  {
   "cell_type": "markdown",
   "id": "805fee34-77cb-40a4-9bee-8c330a29dcc2",
   "metadata": {},
   "source": [
    "# Session 9"
   ]
  },
  {
   "cell_type": "markdown",
   "id": "89edd066-a9d0-4cba-93b9-99d341628402",
   "metadata": {},
   "source": [
    "# for loop"
   ]
  },
  {
   "cell_type": "code",
   "execution_count": 5,
   "id": "03fab4e6-4c07-4e63-b93f-7cadd0a9bfc2",
   "metadata": {},
   "outputs": [],
   "source": [
    "## while True: means always"
   ]
  },
  {
   "cell_type": "code",
   "execution_count": 7,
   "id": "526c17fd-c752-48f1-a319-c82ab0905c12",
   "metadata": {},
   "outputs": [],
   "source": [
    "#while True:\n",
    "#    if \"T\" is pressed:\n",
    "#        break"
   ]
  },
  {
   "cell_type": "code",
   "execution_count": 188,
   "id": "aee6165c-ceaa-40b6-9f09-778847904671",
   "metadata": {},
   "outputs": [
    {
     "name": "stdout",
     "output_type": "stream",
     "text": [
      "0\n",
      "1\n",
      "2\n",
      "3\n",
      "4\n",
      "5\n",
      "6\n",
      "7\n",
      "8\n",
      "9\n"
     ]
    }
   ],
   "source": [
    "for i in range(10):  #range=n-1\n",
    "    print(i)"
   ]
  },
  {
   "cell_type": "code",
   "execution_count": 180,
   "id": "2f9a8414-8d75-4a7f-b114-b3f328167815",
   "metadata": {},
   "outputs": [
    {
     "name": "stdout",
     "output_type": "stream",
     "text": [
      "10\n"
     ]
    }
   ],
   "source": [
    "sum = 0\n",
    "for i in range(5):\n",
    "    sum += i\n",
    "print(sum)"
   ]
  },
  {
   "cell_type": "code",
   "execution_count": 182,
   "id": "b0d6d81b-e67b-4e57-bcdd-6a7ce79eb9a1",
   "metadata": {},
   "outputs": [
    {
     "name": "stdout",
     "output_type": "stream",
     "text": [
      "0\n",
      "1\n",
      "3\n",
      "6\n",
      "10\n"
     ]
    }
   ],
   "source": [
    "sum = 0\n",
    "for i in range(5):\n",
    "    sum += i\n",
    "    print(sum) \n"
   ]
  },
  {
   "cell_type": "code",
   "execution_count": 184,
   "id": "cac5b8b7-283c-4bed-9ce6-fd2ce2ac4e3f",
   "metadata": {},
   "outputs": [
    {
     "name": "stdout",
     "output_type": "stream",
     "text": [
      "i=0,sum=0\n",
      "i=1,sum=1\n",
      "i=2,sum=3\n",
      "i=3,sum=6\n",
      "i=4,sum=10\n",
      "END\n"
     ]
    }
   ],
   "source": [
    "sum = 0\n",
    "for i in range(5):\n",
    "    sum += i\n",
    "    print(\"i=\"+str(i)+\",sum=\"+str(sum))\n",
    "print(\"END\")"
   ]
  },
  {
   "cell_type": "code",
   "execution_count": 186,
   "id": "5abda170-be4d-49c6-85b6-85e88d395775",
   "metadata": {},
   "outputs": [
    {
     "name": "stdout",
     "output_type": "stream",
     "text": [
      "i=0,sum=0\n",
      "END\n",
      "i=1,sum=1\n",
      "END\n",
      "i=2,sum=3\n",
      "END\n",
      "i=3,sum=6\n",
      "END\n",
      "i=4,sum=10\n",
      "END\n"
     ]
    }
   ],
   "source": [
    "sum = 0\n",
    "for i in range(5):\n",
    "    sum += i\n",
    "    print(\"i=\"+str(i)+\",sum=\"+str(sum))\n",
    "    print(\"END\")"
   ]
  },
  {
   "cell_type": "code",
   "execution_count": 31,
   "id": "1b67a9fb-6b78-4eb7-90db-42daaeda690c",
   "metadata": {},
   "outputs": [
    {
     "name": "stdout",
     "output_type": "stream",
     "text": [
      "1\n",
      "2\n",
      "6\n",
      "24\n",
      "120\n",
      "720\n",
      "5040\n",
      "40320\n",
      "362880\n",
      "3628800\n"
     ]
    }
   ],
   "source": [
    "n=1\n",
    "for i in range (10):\n",
    "    n = (i+1)*n\n",
    "    print (n)"
   ]
  },
  {
   "cell_type": "code",
   "execution_count": 33,
   "id": "c88e541e-6969-4100-9334-bea57b0aa8b6",
   "metadata": {},
   "outputs": [
    {
     "name": "stdout",
     "output_type": "stream",
     "text": [
      "1\n",
      "2\n",
      "6\n",
      "24\n",
      "120\n",
      "720\n",
      "5040\n",
      "40320\n",
      "362880\n",
      "3628800\n"
     ]
    }
   ],
   "source": [
    "fact = 1 \n",
    "for i in range(10):\n",
    "    fact *= (i+1)\n",
    "    print(fact)"
   ]
  },
  {
   "cell_type": "code",
   "execution_count": 35,
   "id": "53248da6-9f68-4579-b0c8-b9d4f5a0a846",
   "metadata": {},
   "outputs": [
    {
     "name": "stdout",
     "output_type": "stream",
     "text": [
      "3628800\n"
     ]
    }
   ],
   "source": [
    "n=1\n",
    "for i in range (10):\n",
    "    n = (i+1)*n\n",
    "print (n)"
   ]
  },
  {
   "cell_type": "code",
   "execution_count": 37,
   "id": "7fde920b-d55c-4fbc-b990-0697fb7656d5",
   "metadata": {},
   "outputs": [
    {
     "name": "stdout",
     "output_type": "stream",
     "text": [
      "3628800\n"
     ]
    }
   ],
   "source": [
    "fact = 1 \n",
    "for i in range(10):\n",
    "    fact *= (i+1)\n",
    "print(fact)"
   ]
  },
  {
   "cell_type": "code",
   "execution_count": 39,
   "id": "33aaf826-6679-4d8d-840c-841ae6208a48",
   "metadata": {},
   "outputs": [
    {
     "name": "stdout",
     "output_type": "stream",
     "text": [
      "24\n"
     ]
    }
   ],
   "source": [
    "n = 4\n",
    "fact =1\n",
    "for i in range(n):\n",
    "    fact = fact * (i+1)\n",
    "print(fact)"
   ]
  },
  {
   "cell_type": "code",
   "execution_count": 41,
   "id": "8fdd44cd-4ef0-4331-86bf-0abe08d3a085",
   "metadata": {},
   "outputs": [
    {
     "name": "stdout",
     "output_type": "stream",
     "text": [
      "1\n",
      "2\n",
      "6\n",
      "24\n"
     ]
    }
   ],
   "source": [
    "n = 4\n",
    "fact =1\n",
    "for i in range(n):\n",
    "    fact = fact * (i+1)\n",
    "    print(fact)"
   ]
  },
  {
   "cell_type": "code",
   "execution_count": 43,
   "id": "18a5a774-c3ff-48cc-a0d4-a55860bdc4f4",
   "metadata": {},
   "outputs": [
    {
     "name": "stdout",
     "output_type": "stream",
     "text": [
      "2\n",
      "3\n",
      "4\n",
      "5\n",
      "6\n"
     ]
    }
   ],
   "source": [
    "for i in range(2,7):\n",
    "    print(i)"
   ]
  },
  {
   "cell_type": "code",
   "execution_count": 45,
   "id": "f1ee821c-e443-4418-acb7-0a71b72c35fb",
   "metadata": {},
   "outputs": [
    {
     "name": "stdout",
     "output_type": "stream",
     "text": [
      "0\n",
      "1\n",
      "2\n",
      "3\n",
      "4\n"
     ]
    }
   ],
   "source": [
    "for i in range(5):\n",
    "    print(i)"
   ]
  },
  {
   "cell_type": "code",
   "execution_count": 55,
   "id": "2aa7b467-04b7-4020-9a11-1bbca2460339",
   "metadata": {},
   "outputs": [
    {
     "name": "stdout",
     "output_type": "stream",
     "text": [
      "1\n",
      "2\n",
      "hop!\n",
      "4\n",
      "5\n",
      "hop!\n",
      "7\n",
      "8\n",
      "hop!\n",
      "10\n",
      "11\n",
      "hop!\n",
      "13\n",
      "14\n",
      "hop!\n",
      "16\n",
      "17\n",
      "hop!\n",
      "19\n",
      "20\n",
      "hop!\n",
      "22\n",
      "23\n",
      "hop!\n"
     ]
    }
   ],
   "source": [
    "for i in range(1,25):\n",
    "    if i%3==0:\n",
    "        i=\"hop!\"\n",
    "    print(i)\n"
   ]
  },
  {
   "cell_type": "markdown",
   "id": "33be1878-1890-4864-8774-ebce921e72ae",
   "metadata": {},
   "source": [
    "# Session 10"
   ]
  },
  {
   "cell_type": "markdown",
   "id": "a05db45e-cfe2-42c1-bd82-4cf9fc3be371",
   "metadata": {},
   "source": [
    "# Lists"
   ]
  },
  {
   "cell_type": "markdown",
   "id": "4193ab30-42d2-4de4-b4a1-ef5c66c95175",
   "metadata": {},
   "source": [
    "### Lists are positionally orderd collctions of arbitrarily typed objects,and they have no fixed size."
   ]
  },
  {
   "cell_type": "code",
   "execution_count": 192,
   "id": "d3a146be-1350-4782-903e-c0c621f15d9f",
   "metadata": {},
   "outputs": [
    {
     "data": {
      "text/plain": [
       "3"
      ]
     },
     "execution_count": 192,
     "metadata": {},
     "output_type": "execute_result"
    }
   ],
   "source": [
    "templist = [35, 'Amir' , 3.14]\n",
    "len(templist)"
   ]
  },
  {
   "cell_type": "code",
   "execution_count": 194,
   "id": "71cafcf9-f692-4c8c-8c7b-f1722d3a1cee",
   "metadata": {},
   "outputs": [
    {
     "data": {
      "text/plain": [
       "35"
      ]
     },
     "execution_count": 194,
     "metadata": {},
     "output_type": "execute_result"
    }
   ],
   "source": [
    "templist[0]"
   ]
  },
  {
   "cell_type": "code",
   "execution_count": 196,
   "id": "f1e45974-d4e7-4f88-8a47-dccfbaed6d25",
   "metadata": {},
   "outputs": [
    {
     "data": {
      "text/plain": [
       "'Amir'"
      ]
     },
     "execution_count": 196,
     "metadata": {},
     "output_type": "execute_result"
    }
   ],
   "source": [
    "templist[1]"
   ]
  },
  {
   "cell_type": "code",
   "execution_count": 198,
   "id": "1cd553c1-260c-43c3-9796-420b5978e4b7",
   "metadata": {},
   "outputs": [
    {
     "data": {
      "text/plain": [
       "4"
      ]
     },
     "execution_count": 198,
     "metadata": {},
     "output_type": "execute_result"
    }
   ],
   "source": [
    "len(templist[1])"
   ]
  },
  {
   "cell_type": "code",
   "execution_count": 200,
   "id": "50e7f85f-7c5d-4c40-a7e8-3a7cb92f7f77",
   "metadata": {},
   "outputs": [
    {
     "data": {
      "text/plain": [
       "[35, 'Amir']"
      ]
     },
     "execution_count": 200,
     "metadata": {},
     "output_type": "execute_result"
    }
   ],
   "source": [
    "templist[:-1]"
   ]
  },
  {
   "cell_type": "code",
   "execution_count": 202,
   "id": "6c595e71-8e1d-49a7-95c1-72594d4be156",
   "metadata": {},
   "outputs": [
    {
     "ename": "TypeError",
     "evalue": "'int' object is not subscriptable",
     "output_type": "error",
     "traceback": [
      "\u001b[1;31m---------------------------------------------------------------------------\u001b[0m",
      "\u001b[1;31mTypeError\u001b[0m                                 Traceback (most recent call last)",
      "Cell \u001b[1;32mIn[202], line 1\u001b[0m\n\u001b[1;32m----> 1\u001b[0m templist[\u001b[38;5;241m0\u001b[39m][\u001b[38;5;241m1\u001b[39m]\n",
      "\u001b[1;31mTypeError\u001b[0m: 'int' object is not subscriptable"
     ]
    }
   ],
   "source": [
    "templist[0][1]"
   ]
  },
  {
   "cell_type": "code",
   "execution_count": 204,
   "id": "ca557ff2-3fa3-4bfd-8f10-fe68ab38eec5",
   "metadata": {},
   "outputs": [
    {
     "ename": "TypeError",
     "evalue": "'int' object is not subscriptable",
     "output_type": "error",
     "traceback": [
      "\u001b[1;31m---------------------------------------------------------------------------\u001b[0m",
      "\u001b[1;31mTypeError\u001b[0m                                 Traceback (most recent call last)",
      "Cell \u001b[1;32mIn[204], line 1\u001b[0m\n\u001b[1;32m----> 1\u001b[0m templist[\u001b[38;5;241m0\u001b[39m][\u001b[38;5;241m2\u001b[39m]\n",
      "\u001b[1;31mTypeError\u001b[0m: 'int' object is not subscriptable"
     ]
    }
   ],
   "source": [
    "templist[0][2]"
   ]
  },
  {
   "cell_type": "code",
   "execution_count": 206,
   "id": "46d85e68-7f0a-41dc-9534-2c6a41229611",
   "metadata": {},
   "outputs": [
    {
     "data": {
      "text/plain": [
       "'r'"
      ]
     },
     "execution_count": 206,
     "metadata": {},
     "output_type": "execute_result"
    }
   ],
   "source": [
    "templist[1][3]"
   ]
  },
  {
   "cell_type": "code",
   "execution_count": 20,
   "id": "65a95810-8f31-4bc9-937d-b7f4b61ebf35",
   "metadata": {},
   "outputs": [
    {
     "data": {
      "text/plain": [
       "23"
      ]
     },
     "execution_count": 20,
     "metadata": {},
     "output_type": "execute_result"
    }
   ],
   "source": [
    "23 #int"
   ]
  },
  {
   "cell_type": "code",
   "execution_count": 22,
   "id": "123d139d-97a0-4ce6-8625-e15f846ac8e6",
   "metadata": {},
   "outputs": [
    {
     "data": {
      "text/plain": [
       "'23'"
      ]
     },
     "execution_count": 22,
     "metadata": {},
     "output_type": "execute_result"
    }
   ],
   "source": [
    "'23'  #str"
   ]
  },
  {
   "cell_type": "code",
   "execution_count": 24,
   "id": "9468e07e-1076-4ac5-8e3e-cdeae3ebf5b4",
   "metadata": {},
   "outputs": [
    {
     "data": {
      "text/plain": [
       "'23'"
      ]
     },
     "execution_count": 24,
     "metadata": {},
     "output_type": "execute_result"
    }
   ],
   "source": [
    "str(23)"
   ]
  },
  {
   "cell_type": "code",
   "execution_count": 26,
   "id": "0c6169fb-4b84-429d-aa26-972c6415ccf9",
   "metadata": {},
   "outputs": [],
   "source": [
    "a = 36 # casting sth"
   ]
  },
  {
   "cell_type": "code",
   "execution_count": 28,
   "id": "d16e9b5d-948a-4906-bf87-9fec3718ae96",
   "metadata": {},
   "outputs": [
    {
     "data": {
      "text/plain": [
       "'36'"
      ]
     },
     "execution_count": 28,
     "metadata": {},
     "output_type": "execute_result"
    }
   ],
   "source": [
    "str(a)"
   ]
  },
  {
   "cell_type": "code",
   "execution_count": 30,
   "id": "fd0fec52-96ef-46c1-a14b-21811ed9e1cd",
   "metadata": {},
   "outputs": [],
   "source": [
    "pi = 3.14"
   ]
  },
  {
   "cell_type": "code",
   "execution_count": 32,
   "id": "20558ac6-8101-468f-a182-ccb5340354f7",
   "metadata": {},
   "outputs": [
    {
     "data": {
      "text/plain": [
       "3"
      ]
     },
     "execution_count": 32,
     "metadata": {},
     "output_type": "execute_result"
    }
   ],
   "source": [
    "int(pi)"
   ]
  },
  {
   "cell_type": "code",
   "execution_count": 34,
   "id": "f2b936e0-d028-4da0-9bc1-63263cf5b897",
   "metadata": {},
   "outputs": [],
   "source": [
    "e = 2.7"
   ]
  },
  {
   "cell_type": "code",
   "execution_count": 36,
   "id": "8f663903-7c08-4eb2-8ead-209c855396af",
   "metadata": {},
   "outputs": [
    {
     "data": {
      "text/plain": [
       "2"
      ]
     },
     "execution_count": 36,
     "metadata": {},
     "output_type": "execute_result"
    }
   ],
   "source": [
    "int(e)"
   ]
  },
  {
   "cell_type": "code",
   "execution_count": 40,
   "id": "99eb4c32-c826-43ed-8dd2-a4c2d8f79da3",
   "metadata": {},
   "outputs": [
    {
     "data": {
      "text/plain": [
       "[35, 'Amir']"
      ]
     },
     "execution_count": 40,
     "metadata": {},
     "output_type": "execute_result"
    }
   ],
   "source": [
    "templist[:-1]"
   ]
  },
  {
   "cell_type": "code",
   "execution_count": 44,
   "id": "e8522400-2834-400a-8a59-a1b88cd6d943",
   "metadata": {},
   "outputs": [
    {
     "data": {
      "text/plain": [
       "['Amir', 3.14]"
      ]
     },
     "execution_count": 44,
     "metadata": {},
     "output_type": "execute_result"
    }
   ],
   "source": [
    "templist[1:]"
   ]
  },
  {
   "cell_type": "code",
   "execution_count": 50,
   "id": "7fab617a-4cae-41a6-bfc6-4ee76064eaaa",
   "metadata": {},
   "outputs": [
    {
     "data": {
      "text/plain": [
       "3.14"
      ]
     },
     "execution_count": 50,
     "metadata": {},
     "output_type": "execute_result"
    }
   ],
   "source": [
    "templist[2]"
   ]
  },
  {
   "cell_type": "code",
   "execution_count": 52,
   "id": "232ec455-d2a6-4d8d-9cd4-66637207564e",
   "metadata": {},
   "outputs": [
    {
     "data": {
      "text/plain": [
       "'3.14'"
      ]
     },
     "execution_count": 52,
     "metadata": {},
     "output_type": "execute_result"
    }
   ],
   "source": [
    "str(templist[2])"
   ]
  },
  {
   "cell_type": "code",
   "execution_count": 54,
   "id": "2aff1971-3791-432f-ab32-d594d81a055d",
   "metadata": {},
   "outputs": [
    {
     "data": {
      "text/plain": [
       "'4'"
      ]
     },
     "execution_count": 54,
     "metadata": {},
     "output_type": "execute_result"
    }
   ],
   "source": [
    "str(templist[2])[3]"
   ]
  },
  {
   "cell_type": "code",
   "execution_count": 56,
   "id": "4dc54a43-671a-496f-85db-2aec45501279",
   "metadata": {},
   "outputs": [
    {
     "data": {
      "text/plain": [
       "'1'"
      ]
     },
     "execution_count": 56,
     "metadata": {},
     "output_type": "execute_result"
    }
   ],
   "source": [
    "str(templist[2])[2]"
   ]
  },
  {
   "cell_type": "code",
   "execution_count": 58,
   "id": "ff992f1f-3f3e-4e25-a96f-7afe36b551e6",
   "metadata": {},
   "outputs": [
    {
     "data": {
      "text/plain": [
       "'.'"
      ]
     },
     "execution_count": 58,
     "metadata": {},
     "output_type": "execute_result"
    }
   ],
   "source": [
    "str(templist[2])[1]"
   ]
  },
  {
   "cell_type": "code",
   "execution_count": 60,
   "id": "2dce7f1b-6db4-4b5f-89f7-acfc2edf6753",
   "metadata": {},
   "outputs": [],
   "source": [
    "templist = templist+[2, 'programming' , 2.71828]"
   ]
  },
  {
   "cell_type": "code",
   "execution_count": 62,
   "id": "e8318bb0-547c-4cdb-ade5-4b3b55fcec24",
   "metadata": {},
   "outputs": [
    {
     "name": "stdout",
     "output_type": "stream",
     "text": [
      "[35, 'Amir', 3.14, 2, 'programming', 2.71828, 2, 'programming', 2.71828]\n"
     ]
    }
   ],
   "source": [
    "print(templist)"
   ]
  },
  {
   "cell_type": "code",
   "execution_count": 64,
   "id": "401bfb08-4876-45c8-bc1b-1e9a7bb1c73d",
   "metadata": {},
   "outputs": [],
   "source": [
    "templist += [\"ALI\"]"
   ]
  },
  {
   "cell_type": "code",
   "execution_count": 68,
   "id": "a70dbd06-aaff-43f4-9030-fa98f9805861",
   "metadata": {},
   "outputs": [
    {
     "data": {
      "text/plain": [
       "[35, 'Amir', 3.14, 2, 'programming', 2.71828, 2, 'programming', 2.71828, 'ALI']"
      ]
     },
     "execution_count": 68,
     "metadata": {},
     "output_type": "execute_result"
    }
   ],
   "source": [
    "templist"
   ]
  },
  {
   "cell_type": "code",
   "execution_count": 74,
   "id": "3d2d1f67-5dce-47ca-a239-8b301d999a78",
   "metadata": {},
   "outputs": [
    {
     "data": {
      "text/plain": [
       "[35,\n",
       " 'Amir',\n",
       " 3.14,\n",
       " 2,\n",
       " 'programming',\n",
       " 2.71828,\n",
       " 2,\n",
       " 'programming',\n",
       " 2.71828,\n",
       " 'ALI',\n",
       " 'Tehran',\n",
       " 'Tehran',\n",
       " 'Tehran']"
      ]
     },
     "execution_count": 74,
     "metadata": {},
     "output_type": "execute_result"
    }
   ],
   "source": [
    "templist.append(\"Tehran\")\n",
    "templist"
   ]
  },
  {
   "cell_type": "code",
   "execution_count": 77,
   "id": "d4a5aa25-f026-42e0-a636-7e40d8c6fd3b",
   "metadata": {},
   "outputs": [
    {
     "data": {
      "text/plain": [
       "['__add__',\n",
       " '__class__',\n",
       " '__class_getitem__',\n",
       " '__contains__',\n",
       " '__delattr__',\n",
       " '__delitem__',\n",
       " '__dir__',\n",
       " '__doc__',\n",
       " '__eq__',\n",
       " '__format__',\n",
       " '__ge__',\n",
       " '__getattribute__',\n",
       " '__getitem__',\n",
       " '__getstate__',\n",
       " '__gt__',\n",
       " '__hash__',\n",
       " '__iadd__',\n",
       " '__imul__',\n",
       " '__init__',\n",
       " '__init_subclass__',\n",
       " '__iter__',\n",
       " '__le__',\n",
       " '__len__',\n",
       " '__lt__',\n",
       " '__mul__',\n",
       " '__ne__',\n",
       " '__new__',\n",
       " '__reduce__',\n",
       " '__reduce_ex__',\n",
       " '__repr__',\n",
       " '__reversed__',\n",
       " '__rmul__',\n",
       " '__setattr__',\n",
       " '__setitem__',\n",
       " '__sizeof__',\n",
       " '__str__',\n",
       " '__subclasshook__',\n",
       " 'append',\n",
       " 'clear',\n",
       " 'copy',\n",
       " 'count',\n",
       " 'extend',\n",
       " 'index',\n",
       " 'insert',\n",
       " 'pop',\n",
       " 'remove',\n",
       " 'reverse',\n",
       " 'sort']"
      ]
     },
     "execution_count": 77,
     "metadata": {},
     "output_type": "execute_result"
    }
   ],
   "source": [
    "dir(templist)"
   ]
  },
  {
   "cell_type": "code",
   "execution_count": 79,
   "id": "9c5688b4-8e78-4bfe-a83b-4e2de7d73a8d",
   "metadata": {},
   "outputs": [],
   "source": [
    "templist.remove(\"Tehran\")"
   ]
  },
  {
   "cell_type": "code",
   "execution_count": 81,
   "id": "d10cbe5e-c8a2-4a02-b392-bee71bcb1b52",
   "metadata": {},
   "outputs": [
    {
     "data": {
      "text/plain": [
       "[35,\n",
       " 'Amir',\n",
       " 3.14,\n",
       " 2,\n",
       " 'programming',\n",
       " 2.71828,\n",
       " 2,\n",
       " 'programming',\n",
       " 2.71828,\n",
       " 'ALI',\n",
       " 'Tehran',\n",
       " 'Tehran']"
      ]
     },
     "execution_count": 81,
     "metadata": {},
     "output_type": "execute_result"
    }
   ],
   "source": [
    "templist"
   ]
  },
  {
   "cell_type": "code",
   "execution_count": 83,
   "id": "dde9fd92-752b-4fac-bc11-842abea2a559",
   "metadata": {},
   "outputs": [
    {
     "data": {
      "text/plain": [
       "'Amir'"
      ]
     },
     "execution_count": 83,
     "metadata": {},
     "output_type": "execute_result"
    }
   ],
   "source": [
    "templist.pop(1)"
   ]
  },
  {
   "cell_type": "code",
   "execution_count": 85,
   "id": "c9d35139-0a17-4c35-9e26-2d7f27d2ff9f",
   "metadata": {},
   "outputs": [
    {
     "data": {
      "text/plain": [
       "'programming'"
      ]
     },
     "execution_count": 85,
     "metadata": {},
     "output_type": "execute_result"
    }
   ],
   "source": [
    "templist.pop(6)"
   ]
  },
  {
   "cell_type": "code",
   "execution_count": 87,
   "id": "44d5ad5c-cab2-4b44-968d-241b3a7b31e0",
   "metadata": {},
   "outputs": [
    {
     "data": {
      "text/plain": [
       "[35, 3.14, 2, 'programming', 2.71828, 2, 2.71828, 'ALI', 'Tehran', 'Tehran']"
      ]
     },
     "execution_count": 87,
     "metadata": {},
     "output_type": "execute_result"
    }
   ],
   "source": [
    "templist"
   ]
  },
  {
   "cell_type": "code",
   "execution_count": 208,
   "id": "fe6baa24-6775-4314-884e-1d0063e6bd45",
   "metadata": {},
   "outputs": [
    {
     "data": {
      "text/plain": [
       "[21, 25, 32, 35]"
      ]
     },
     "execution_count": 208,
     "metadata": {},
     "output_type": "execute_result"
    }
   ],
   "source": [
    "ages = [32,25,35,21]\n",
    "ages.sort()\n",
    "ages"
   ]
  },
  {
   "cell_type": "code",
   "execution_count": 212,
   "id": "a6dd4475-3b0c-40b3-85e3-d17dafa278de",
   "metadata": {},
   "outputs": [
    {
     "data": {
      "text/plain": [
       "25"
      ]
     },
     "execution_count": 212,
     "metadata": {},
     "output_type": "execute_result"
    }
   ],
   "source": [
    "ages[1]"
   ]
  },
  {
   "cell_type": "code",
   "execution_count": 214,
   "id": "ba2a5a1a-fdc8-49f9-93f4-980677cd3448",
   "metadata": {},
   "outputs": [
    {
     "data": {
      "text/plain": [
       "['2', '21', '35', 's']"
      ]
     },
     "execution_count": 214,
     "metadata": {},
     "output_type": "execute_result"
    }
   ],
   "source": [
    "ages =[\"s\",\"2\",\"35\",\"21\"]\n",
    "ages.sort()\n",
    "ages"
   ]
  },
  {
   "cell_type": "code",
   "execution_count": 216,
   "id": "2e77156c-47c7-438c-b4d6-e184660c0156",
   "metadata": {},
   "outputs": [
    {
     "data": {
      "text/plain": [
       "['2', '35', 'A', 'B', 'a', 'b', 's']"
      ]
     },
     "execution_count": 216,
     "metadata": {},
     "output_type": "execute_result"
    }
   ],
   "source": [
    "ages =[\"s\",\"2\",\"35\",\"B\",\"a\",\"b\",\"A\"]\n",
    "ages.sort()\n",
    "ages"
   ]
  },
  {
   "cell_type": "code",
   "execution_count": 218,
   "id": "d34f673f-76a4-4ddb-bc4b-cb7fa793ae16",
   "metadata": {},
   "outputs": [
    {
     "data": {
      "text/plain": [
       "'b'"
      ]
     },
     "execution_count": 218,
     "metadata": {},
     "output_type": "execute_result"
    }
   ],
   "source": [
    "ages[5]"
   ]
  },
  {
   "cell_type": "code",
   "execution_count": 220,
   "id": "30390b0b-57b6-4d91-a7fa-67478df020ca",
   "metadata": {},
   "outputs": [],
   "source": [
    "ages =[\"s\",\"2\",\"35\",\"21\"]"
   ]
  },
  {
   "cell_type": "code",
   "execution_count": 224,
   "id": "35c59c47-f4b7-458b-b89c-9bfb06190834",
   "metadata": {},
   "outputs": [
    {
     "ename": "IndexError",
     "evalue": "list index out of range",
     "output_type": "error",
     "traceback": [
      "\u001b[1;31m---------------------------------------------------------------------------\u001b[0m",
      "\u001b[1;31mIndexError\u001b[0m                                Traceback (most recent call last)",
      "Cell \u001b[1;32mIn[224], line 1\u001b[0m\n\u001b[1;32m----> 1\u001b[0m ages[\u001b[38;5;241m5\u001b[39m]\n",
      "\u001b[1;31mIndexError\u001b[0m: list index out of range"
     ]
    }
   ],
   "source": [
    "ages[5]    #Error"
   ]
  },
  {
   "cell_type": "markdown",
   "id": "99c0a63d-9aa4-4897-bdb8-8165a664b186",
   "metadata": {},
   "source": [
    "# Nesting"
   ]
  },
  {
   "cell_type": "markdown",
   "id": "bf871abf-844e-4f48-8175-7c21f2cb8c1c",
   "metadata": {},
   "source": [
    "## we can nest them in any combination, and as deeply as we like, one immediate application of this feature is to represent matris, or \"multidimensional arrays\""
   ]
  },
  {
   "cell_type": "code",
   "execution_count": 227,
   "id": "ead6517c-f198-4ede-b286-ce6eb959a123",
   "metadata": {},
   "outputs": [
    {
     "data": {
      "text/plain": [
       "[4, 5, 6]"
      ]
     },
     "execution_count": 227,
     "metadata": {},
     "output_type": "execute_result"
    }
   ],
   "source": [
    "nestArray = [[1,2,3],[4,5,6],[7,8,9]]\n",
    "nestArray[1]"
   ]
  },
  {
   "cell_type": "code",
   "execution_count": 229,
   "id": "ec7387de-bfd6-45ed-b009-0e16e3110dce",
   "metadata": {},
   "outputs": [
    {
     "data": {
      "text/plain": [
       "6"
      ]
     },
     "execution_count": 229,
     "metadata": {},
     "output_type": "execute_result"
    }
   ],
   "source": [
    "nestArray[1][2]"
   ]
  },
  {
   "cell_type": "code",
   "execution_count": 231,
   "id": "005708af-c1db-4924-9cfc-9b0473f775fb",
   "metadata": {},
   "outputs": [],
   "source": [
    "myscores = [20,13,11,17,15]"
   ]
  },
  {
   "cell_type": "code",
   "execution_count": 233,
   "id": "194b6d20-0328-4842-b427-de9eb98ec513",
   "metadata": {},
   "outputs": [
    {
     "name": "stdout",
     "output_type": "stream",
     "text": [
      "20\n",
      "13\n",
      "11\n",
      "17\n",
      "15\n"
     ]
    }
   ],
   "source": [
    "for i in myscores:\n",
    "    print(i)"
   ]
  },
  {
   "cell_type": "markdown",
   "id": "bb1e2e7f-4364-42dc-8a69-2fe2423eeb64",
   "metadata": {},
   "source": [
    "### Q.print courses that i passed in the decending order"
   ]
  },
  {
   "cell_type": "code",
   "execution_count": 239,
   "id": "61f116ac-9ee9-4b78-a773-2cfa16281cb7",
   "metadata": {},
   "outputs": [],
   "source": [
    "myscores = [20,13,11,17,15,4]\n",
    "mycourses = [\"math\" , \"history\" ,\"chemistery\" , \"physics\" , \"ap\",\"bp\"]"
   ]
  },
  {
   "cell_type": "code",
   "execution_count": 241,
   "id": "6d6b5c29-9b35-4909-8a32-be27e069337b",
   "metadata": {},
   "outputs": [
    {
     "name": "stdout",
     "output_type": "stream",
     "text": [
      "math = 20\n",
      "history = 13\n",
      "chemistery = 11\n",
      "physics = 17\n",
      "ap = 15\n",
      "bp = 4\n"
     ]
    }
   ],
   "source": [
    "for courses, scores in zip(mycourses, myscores ):\n",
    "    print(f\"{courses} = {scores}\")"
   ]
  },
  {
   "cell_type": "code",
   "execution_count": 243,
   "id": "34790057-d721-49ea-8d7a-c7fef3cddef4",
   "metadata": {},
   "outputs": [
    {
     "name": "stdout",
     "output_type": "stream",
     "text": [
      "math = 4\n",
      "history = 11\n",
      "chemistery = 13\n",
      "physics = 15\n",
      "ap = 17\n",
      "bp = 20\n"
     ]
    }
   ],
   "source": [
    "myscores = [20,13,11,17,15,4]\n",
    "mycourses = [\"math\" , \"history\" ,\"chemistery\" , \"physics\" , \"ap\",\"bp\"]\n",
    "myscores.sort()\n",
    "for courses, scores in zip(mycourses, myscores ):\n",
    "    print(f\"{courses} = {scores}\")"
   ]
  },
  {
   "cell_type": "markdown",
   "id": "bc0870e3-da77-40d9-9f38-60c5638042df",
   "metadata": {},
   "source": [
    "# session 11"
   ]
  },
  {
   "cell_type": "code",
   "execution_count": 245,
   "id": "5509b5bf-46b0-455f-b79a-141d197c8d29",
   "metadata": {},
   "outputs": [
    {
     "name": "stdout",
     "output_type": "stream",
     "text": [
      "math=20\n",
      "history=13\n",
      "chemistery=11\n",
      "physics=17\n",
      "ap=15\n",
      "bp=4\n"
     ]
    }
   ],
   "source": [
    "myscores = [20,13,11,17,15,4]\n",
    "mycourses = [\"math\" , \"history\" ,\"chemistery\" , \"physics\" , \"ap\",\"bp\"]\n",
    "for i in range(len(myscores)):\n",
    "    print(mycourses[i] + \"=\" +str(myscores[i]))"
   ]
  },
  {
   "cell_type": "code",
   "execution_count": 247,
   "id": "2e133508-82b2-424d-a0db-19ba34461112",
   "metadata": {},
   "outputs": [
    {
     "name": "stdout",
     "output_type": "stream",
     "text": [
      "math 20\n",
      "history 13\n",
      "math = 20\n",
      "history = 13\n",
      "chemistery = 11\n",
      "physics = 17\n",
      "ap = 15\n",
      "bp = 4\n"
     ]
    }
   ],
   "source": [
    "myscores = [20,13,11,17,15,4]\n",
    "mycourses = [\"math\" , \"history\" ,\"chemistery\" , \"physics\" , \"ap\",\"bp\"]\n",
    "mycourses[0]\n",
    "myscores[0]\n",
    "print(mycourses[0],myscores[0])\n",
    "mycourses[1]\n",
    "myscores[1]\n",
    "print(mycourses[1],myscores[1])\n",
    "for i in range(len(myscores)):\n",
    "     print(mycourses[i],\"=\",myscores[i])"
   ]
  },
  {
   "cell_type": "code",
   "execution_count": 249,
   "id": "2c3ab09f-1946-4c73-bac2-8d51e61974d6",
   "metadata": {},
   "outputs": [
    {
     "name": "stdout",
     "output_type": "stream",
     "text": [
      "math=20\n",
      "history=13\n",
      "chemistery=11\n",
      "physics=17\n",
      "ap=15\n"
     ]
    }
   ],
   "source": [
    "myscores = [20,13,11,17,15,4]\n",
    "mycourses = [\"math\" , \"history\" ,\"chemistery\" , \"physics\" , \"ap\",\"bp\"]\n",
    "for i in range(len(myscores)):\n",
    "    if myscores [i]>=10:\n",
    "        print(mycourses[i] + \"=\" +str(myscores[i]))"
   ]
  },
  {
   "cell_type": "markdown",
   "id": "3f28922a-59bc-4dc6-b42f-4782fa129ea4",
   "metadata": {},
   "source": [
    "## Dictionary"
   ]
  },
  {
   "cell_type": "code",
   "execution_count": 385,
   "id": "9ff7913c-3611-41cd-b881-8cbb738af32a",
   "metadata": {},
   "outputs": [],
   "source": [
    "myprofile = {'name' : 'Zahra Akhlaghipoor' , 'age' : 24}"
   ]
  },
  {
   "cell_type": "code",
   "execution_count": 387,
   "id": "866219ac-9148-45bc-bc12-c5a3c9ec86dd",
   "metadata": {},
   "outputs": [
    {
     "name": "stdout",
     "output_type": "stream",
     "text": [
      "Zahra Akhlaghipoor\n"
     ]
    }
   ],
   "source": [
    "print(myprofile['name'])"
   ]
  },
  {
   "cell_type": "code",
   "execution_count": 389,
   "id": "dc58c0a6-d450-43af-9100-24854c619cfc",
   "metadata": {},
   "outputs": [
    {
     "name": "stdout",
     "output_type": "stream",
     "text": [
      "24\n"
     ]
    }
   ],
   "source": [
    "print(myprofile['age'])"
   ]
  },
  {
   "cell_type": "code",
   "execution_count": 391,
   "id": "20258f3e-f8ad-485c-a28e-a2b8aa7b17cd",
   "metadata": {},
   "outputs": [
    {
     "name": "stdout",
     "output_type": "stream",
     "text": [
      "Zahra\n"
     ]
    }
   ],
   "source": [
    "nameDict = {'firstName': 'Zahra','lastName':'Akhlaghipoor'}\n",
    "print(nameDict['firstName'])"
   ]
  },
  {
   "cell_type": "code",
   "execution_count": 393,
   "id": "6f26f04f-9ea6-49af-aacb-c1d9d84a8cf5",
   "metadata": {},
   "outputs": [
    {
     "name": "stdout",
     "output_type": "stream",
     "text": [
      "{'firstName': 'Zahra', 'lastName': 'Akhlaghipoor'}\n"
     ]
    }
   ],
   "source": [
    "nameDict = {'firstName': 'Zahra','lastName':'Akhlaghipoor'}\n",
    "print(nameDict)"
   ]
  },
  {
   "cell_type": "code",
   "execution_count": 395,
   "id": "55b1d0e5-50a7-4346-9749-8406544c1d35",
   "metadata": {},
   "outputs": [
    {
     "name": "stdout",
     "output_type": "stream",
     "text": [
      "{'name': {'firstName': 'Zahra', 'lastName': 'Akhlaghipoor'}, 'age': 24}\n"
     ]
    }
   ],
   "source": [
    "myprofile = {'name':nameDict, 'age' : 24}\n",
    "print(myprofile)"
   ]
  },
  {
   "cell_type": "code",
   "execution_count": 397,
   "id": "c25293c0-ae03-4304-afc0-3f9e6af1ee52",
   "metadata": {},
   "outputs": [
    {
     "name": "stdout",
     "output_type": "stream",
     "text": [
      "24\n"
     ]
    }
   ],
   "source": [
    "myprofile ={'name':nameDict,'age': 24}\n",
    "print(myprofile['age'])"
   ]
  },
  {
   "cell_type": "code",
   "execution_count": 399,
   "id": "17f4063b-7e98-4a3e-b4f6-51e2263f994c",
   "metadata": {},
   "outputs": [
    {
     "name": "stdout",
     "output_type": "stream",
     "text": [
      "Zahra\n"
     ]
    }
   ],
   "source": [
    "print(myprofile['name']['firstName'])"
   ]
  },
  {
   "cell_type": "code",
   "execution_count": 401,
   "id": "11945d77-ee1f-4d9f-a160-5d7897cec1ff",
   "metadata": {},
   "outputs": [],
   "source": [
    "myprofile ={'firstName': 'Zahra','lastName':'Akhlaghipoor','age':24} \n",
    "cities = [ 'Tehran', 'Mashhad' , 'Kish']"
   ]
  },
  {
   "cell_type": "code",
   "execution_count": 403,
   "id": "c0f865ef-e352-4ea7-840a-889f2b5d20b3",
   "metadata": {},
   "outputs": [],
   "source": [
    "myprofile['cities'] = cities"
   ]
  },
  {
   "cell_type": "code",
   "execution_count": 405,
   "id": "cee23b6e-b68a-4250-a108-ba0273e4f251",
   "metadata": {},
   "outputs": [
    {
     "name": "stdout",
     "output_type": "stream",
     "text": [
      "{'firstName': 'Zahra', 'lastName': 'Akhlaghipoor', 'age': 24, 'cities': ['Tehran', 'Mashhad', 'Kish']}\n"
     ]
    }
   ],
   "source": [
    "print(myprofile)"
   ]
  },
  {
   "cell_type": "code",
   "execution_count": 407,
   "id": "3d0a8794-ab88-467d-9483-0bf5a733ac66",
   "metadata": {},
   "outputs": [
    {
     "name": "stdout",
     "output_type": "stream",
     "text": [
      "3\n"
     ]
    }
   ],
   "source": [
    "print(len(myprofile['cities']))"
   ]
  },
  {
   "cell_type": "code",
   "execution_count": 409,
   "id": "89b2b2e6-21a8-40b4-8ca1-d648364fa339",
   "metadata": {},
   "outputs": [
    {
     "name": "stdout",
     "output_type": "stream",
     "text": [
      "Kish\n"
     ]
    }
   ],
   "source": [
    "print(myprofile['cities'][-1])"
   ]
  },
  {
   "cell_type": "code",
   "execution_count": 411,
   "id": "b0a8266f-c454-496d-a36b-80a16efe2e38",
   "metadata": {},
   "outputs": [
    {
     "ename": "KeyError",
     "evalue": "'url'",
     "output_type": "error",
     "traceback": [
      "\u001b[1;31m---------------------------------------------------------------------------\u001b[0m",
      "\u001b[1;31mKeyError\u001b[0m                                  Traceback (most recent call last)",
      "Cell \u001b[1;32mIn[411], line 1\u001b[0m\n\u001b[1;32m----> 1\u001b[0m myprofile[\u001b[38;5;124m'\u001b[39m\u001b[38;5;124murl\u001b[39m\u001b[38;5;124m'\u001b[39m]\n",
      "\u001b[1;31mKeyError\u001b[0m: 'url'"
     ]
    }
   ],
   "source": [
    "myprofile['url']\n"
   ]
  },
  {
   "cell_type": "code",
   "execution_count": 413,
   "id": "6c23a3f4-483b-46c0-80ec-f69f3b22378d",
   "metadata": {},
   "outputs": [],
   "source": [
    "###list []   set{}"
   ]
  },
  {
   "cell_type": "code",
   "execution_count": 415,
   "id": "b9de00e6-f38a-4dbf-bc33-c389485bc2c9",
   "metadata": {},
   "outputs": [
    {
     "name": "stdout",
     "output_type": "stream",
     "text": [
      "{'firstName': 'Zahra', 'lastName': 'Akhlaghipoor', 'age': 24, 'cities': ['Tehran', 'Mashhad', 'Kish'], 'friends': [{'firstName': 'Tima', 'lastName': 'Kalhori', 'age': 19, 'id': 0}, {'firstName': 'Nikki', 'lastName': 'Khayyat', 'age': 22, 'id': 12}]}\n"
     ]
    }
   ],
   "source": [
    "myprofile['friends'] =[{'firstName': 'Tima' , 'lastName' :'Kalhori', 'age':19,'id':0},{'firstName':'Nikki', 'lastName':'Khayyat','age':22,'id':12}]\n",
    "print(myprofile)"
   ]
  },
  {
   "cell_type": "code",
   "execution_count": 417,
   "id": "3604cf93-7b46-45af-9e75-5b07391b0976",
   "metadata": {},
   "outputs": [
    {
     "name": "stdout",
     "output_type": "stream",
     "text": [
      "[{'firstName': 'Tima', 'lastName': 'Kalhori', 'age': 19, 'id': 0}, {'firstName': 'Nikki', 'lastName': 'Khayyat', 'age': 22, 'id': 12}, {'firstName': 'Meshkat', 'lastname': 'Fallahian', 'age': 19, 'id': 30}]\n"
     ]
    }
   ],
   "source": [
    "myprofile['friends'].append({'firstName':'Meshkat','lastname':'Fallahian','age':19,'id':30})\n",
    "print(myprofile['friends'])"
   ]
  },
  {
   "cell_type": "markdown",
   "id": "f9f90d5d-f68d-4f97-a640-cc93d986d4d3",
   "metadata": {},
   "source": [
    "### Q.print name of oldest friend and average age of your friends"
   ]
  },
  {
   "cell_type": "code",
   "execution_count": 420,
   "id": "f7954d7a-9031-4be2-92a6-575ca618da66",
   "metadata": {},
   "outputs": [
    {
     "name": "stdout",
     "output_type": "stream",
     "text": [
      "بزرگترین دوست:\n",
      "First Name: Nikki\n",
      "Last Name: Khayyat\n",
      "Age: 22\n"
     ]
    }
   ],
   "source": [
    "# پیدا کردن دوست با بیشترین سن\n",
    "largest_friend = max(myprofile['friends'], key=lambda x: x['age'])\n",
    "\n",
    "# نمایش اطلاعات دوست بزرگ‌تر\n",
    "print(\"بزرگترین دوست:\")\n",
    "print(f\"First Name: {largest_friend.get('firstName', 'N/A')}\")\n",
    "print(f\"Last Name: {largest_friend.get('lastName', largest_friend.get('lastname', 'N/A'))}\")\n",
    "print(f\"Age: {largest_friend['age']}\")\n"
   ]
  },
  {
   "cell_type": "code",
   "execution_count": 422,
   "id": "d40efdec-e657-490f-8b80-fa5ecc863c13",
   "metadata": {},
   "outputs": [
    {
     "data": {
      "text/plain": [
       "{'firstName': 'Meshkat', 'lastname': 'Fallahian', 'age': 19, 'id': 30}"
      ]
     },
     "execution_count": 422,
     "metadata": {},
     "output_type": "execute_result"
    }
   ],
   "source": [
    "myprofile['friends'][-1]"
   ]
  },
  {
   "cell_type": "markdown",
   "id": "d1fc2569-90ae-4083-badc-28c7a015746a",
   "metadata": {},
   "source": [
    "# session 12"
   ]
  },
  {
   "cell_type": "code",
   "execution_count": 425,
   "id": "e4515eb3-5790-4b2c-bb6c-431e057a4418",
   "metadata": {},
   "outputs": [
    {
     "data": {
      "text/plain": [
       "<function dict.values>"
      ]
     },
     "execution_count": 425,
     "metadata": {},
     "output_type": "execute_result"
    }
   ],
   "source": [
    "myprofile.values"
   ]
  },
  {
   "cell_type": "code",
   "execution_count": 427,
   "id": "de8369cf-f986-4c94-b760-97ace1423f3c",
   "metadata": {},
   "outputs": [
    {
     "data": {
      "text/plain": [
       "dict_keys(['firstName', 'lastName', 'age', 'cities', 'friends'])"
      ]
     },
     "execution_count": 427,
     "metadata": {},
     "output_type": "execute_result"
    }
   ],
   "source": [
    "myprofile.keys()"
   ]
  },
  {
   "cell_type": "code",
   "execution_count": 429,
   "id": "7d0848dc-92a5-45a6-b91d-673ca5c24f53",
   "metadata": {},
   "outputs": [
    {
     "data": {
      "text/plain": [
       "['__add__',\n",
       " '__class__',\n",
       " '__class_getitem__',\n",
       " '__contains__',\n",
       " '__delattr__',\n",
       " '__delitem__',\n",
       " '__dir__',\n",
       " '__doc__',\n",
       " '__eq__',\n",
       " '__format__',\n",
       " '__ge__',\n",
       " '__getattribute__',\n",
       " '__getitem__',\n",
       " '__getstate__',\n",
       " '__gt__',\n",
       " '__hash__',\n",
       " '__iadd__',\n",
       " '__imul__',\n",
       " '__init__',\n",
       " '__init_subclass__',\n",
       " '__iter__',\n",
       " '__le__',\n",
       " '__len__',\n",
       " '__lt__',\n",
       " '__mul__',\n",
       " '__ne__',\n",
       " '__new__',\n",
       " '__reduce__',\n",
       " '__reduce_ex__',\n",
       " '__repr__',\n",
       " '__reversed__',\n",
       " '__rmul__',\n",
       " '__setattr__',\n",
       " '__setitem__',\n",
       " '__sizeof__',\n",
       " '__str__',\n",
       " '__subclasshook__',\n",
       " 'append',\n",
       " 'clear',\n",
       " 'copy',\n",
       " 'count',\n",
       " 'extend',\n",
       " 'index',\n",
       " 'insert',\n",
       " 'pop',\n",
       " 'remove',\n",
       " 'reverse',\n",
       " 'sort']"
      ]
     },
     "execution_count": 429,
     "metadata": {},
     "output_type": "execute_result"
    }
   ],
   "source": [
    "dir(myprofile['friends'])"
   ]
  },
  {
   "cell_type": "raw",
   "id": "d3585d3b-bbb1-4496-bff2-b6f733acae64",
   "metadata": {},
   "source": [
    "help(myprofile['friends'].__len__)\n"
   ]
  },
  {
   "cell_type": "code",
   "execution_count": 431,
   "id": "1075dd76-fbcb-463b-a5a5-638e8df88b2a",
   "metadata": {},
   "outputs": [
    {
     "name": "stdout",
     "output_type": "stream",
     "text": [
      "age vared shode ast\n"
     ]
    }
   ],
   "source": [
    "if \"age\" in myprofile.keys():\n",
    "    print(\"age vared shode ast\")\n",
    "else:\n",
    "    print(\"age ra vared kon\")"
   ]
  },
  {
   "cell_type": "code",
   "execution_count": 433,
   "id": "c21596f3-51eb-44ca-9307-82cbcf81fd5b",
   "metadata": {},
   "outputs": [
    {
     "name": "stdout",
     "output_type": "stream",
     "text": [
      "اجازه دارد\n"
     ]
    }
   ],
   "source": [
    "if \"age\" in myprofile.keys():\n",
    "    if myprofile[\"age\"] >=18:\n",
    "        print(\"اجازه دارد\")\n",
    "else:\n",
    "    print(\"age ra vared kon\")        "
   ]
  },
  {
   "cell_type": "code",
   "execution_count": 435,
   "id": "f7f36c7b-d411-4264-a796-c9b519cae27a",
   "metadata": {},
   "outputs": [
    {
     "data": {
      "text/plain": [
       "int"
      ]
     },
     "execution_count": 435,
     "metadata": {},
     "output_type": "execute_result"
    }
   ],
   "source": [
    "type(myprofile[\"age\"])"
   ]
  },
  {
   "cell_type": "code",
   "execution_count": 374,
   "id": "903c253d-5121-4abe-b0bb-8ae843eb3f45",
   "metadata": {},
   "outputs": [
    {
     "name": "stdout",
     "output_type": "stream",
     "text": [
      "age ra vared kon\n"
     ]
    }
   ],
   "source": [
    "if \"age\" in myprofile.keys():\n",
    "    if(myprofile[\"age\"])==int :\n",
    "        print(\"اجازه دارد\")\n",
    "else:\n",
    "    print(\"age ra vared kon\")"
   ]
  },
  {
   "cell_type": "code",
   "execution_count": 376,
   "id": "da8d78bb-3be4-468f-be1d-ba21f4d8b58c",
   "metadata": {},
   "outputs": [
    {
     "data": {
      "text/plain": [
       "10"
      ]
     },
     "execution_count": 376,
     "metadata": {},
     "output_type": "execute_result"
    }
   ],
   "source": [
    "10"
   ]
  }
 ],
 "metadata": {
  "kernelspec": {
   "display_name": "Python 3 (ipykernel)",
   "language": "python",
   "name": "python3"
  },
  "language_info": {
   "codemirror_mode": {
    "name": "ipython",
    "version": 3
   },
   "file_extension": ".py",
   "mimetype": "text/x-python",
   "name": "python",
   "nbconvert_exporter": "python",
   "pygments_lexer": "ipython3",
   "version": "3.12.4"
  }
 },
 "nbformat": 4,
 "nbformat_minor": 5
}
